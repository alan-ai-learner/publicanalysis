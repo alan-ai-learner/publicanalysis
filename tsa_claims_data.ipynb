{
 "cells": [
  {
   "cell_type": "markdown",
   "metadata": {},
   "source": [
    "# TSA Claims data\n",
    "With these claims we'll try to answer questions like: What are people complaining about to TSA, how much are they claiming, which airlines are paying out. We'll accomplish this by building horizontal column charts, x axis is dollar amount, y axis are categories and bins of columns are years.\n",
    "\n",
    "<strong>Uses Python 3 and Bokeh 13</strong>\n",
    "\n",
    "* Datasource: https://www.dhs.gov/tsa-claims-data\n",
    "* Chart inspiration: https://bokeh.pydata.org/en/latest/docs/gallery/bar_stacked_split.html\n",
    "\n",
    "This notebook does not use all the available TSA claims data. The latest was only available in PDF form nobody got time for that.\n",
    "\n",
    "#### www.machineloveus.com"
   ]
  },
  {
   "cell_type": "code",
   "execution_count": 1,
   "metadata": {},
   "outputs": [],
   "source": [
    "import pandas as pd"
   ]
  },
  {
   "cell_type": "code",
   "execution_count": 2,
   "metadata": {},
   "outputs": [
    {
     "name": "stderr",
     "output_type": "stream",
     "text": [
      "/Users/cenchen/repos/prolific/lib/python3.7/site-packages/ipykernel_launcher.py:9: FutureWarning: Sorting because non-concatenation axis is not aligned. A future version\n",
      "of pandas will change to not sort by default.\n",
      "\n",
      "To accept the future behavior, pass 'sort=False'.\n",
      "\n",
      "To retain the current behavior and silence the warning, pass 'sort=True'.\n",
      "\n",
      "  if __name__ == '__main__':\n"
     ]
    }
   ],
   "source": [
    "sheets = ['claims-2002-2006_0.xls', 'claims-2007-2009_0.xls',\n",
    "          'claims-2010-2013_0.xls', 'claims-2014.xls', 'claims-data-2015-as-of-feb-9-2016.xls']\n",
    "frames = []\n",
    "for sheet in sheets:\n",
    "    df = pd.read_excel(sheet)\n",
    "    df = df[(df['Disposition'] == 'Approve in Full') |\n",
    "        (df['Disposition'] == 'Settle')]\n",
    "    frames.append(df)\n",
    "df = pd.concat(frames)"
   ]
  },
  {
   "cell_type": "code",
   "execution_count": 3,
   "metadata": {},
   "outputs": [
    {
     "data": {
      "text/plain": [
       "(81107, 15)"
      ]
     },
     "execution_count": 3,
     "metadata": {},
     "output_type": "execute_result"
    }
   ],
   "source": [
    "df.shape"
   ]
  },
  {
   "cell_type": "code",
   "execution_count": 4,
   "metadata": {},
   "outputs": [
    {
     "data": {
      "text/html": [
       "<div>\n",
       "<style scoped>\n",
       "    .dataframe tbody tr th:only-of-type {\n",
       "        vertical-align: middle;\n",
       "    }\n",
       "\n",
       "    .dataframe tbody tr th {\n",
       "        vertical-align: top;\n",
       "    }\n",
       "\n",
       "    .dataframe thead th {\n",
       "        text-align: right;\n",
       "    }\n",
       "</style>\n",
       "<table border=\"1\" class=\"dataframe\">\n",
       "  <thead>\n",
       "    <tr style=\"text-align: right;\">\n",
       "      <th></th>\n",
       "      <th>Airline Name</th>\n",
       "      <th>Airport Code</th>\n",
       "      <th>Airport Name</th>\n",
       "      <th>Claim Amount</th>\n",
       "      <th>Claim Number</th>\n",
       "      <th>Claim Site</th>\n",
       "      <th>Claim Type</th>\n",
       "      <th>Close Amount</th>\n",
       "      <th>Date Received</th>\n",
       "      <th>Disposition</th>\n",
       "      <th>Incident D</th>\n",
       "      <th>Incident Date</th>\n",
       "      <th>Item</th>\n",
       "      <th>Item Category</th>\n",
       "      <th>Status</th>\n",
       "    </tr>\n",
       "  </thead>\n",
       "  <tbody>\n",
       "    <tr>\n",
       "      <th>0</th>\n",
       "      <td>Continental Airlines</td>\n",
       "      <td>EWR</td>\n",
       "      <td>Newark International Airport</td>\n",
       "      <td>350.00</td>\n",
       "      <td>0909802M</td>\n",
       "      <td>Checkpoint</td>\n",
       "      <td>Property Damage</td>\n",
       "      <td>350</td>\n",
       "      <td>2002-01-04 00:00:00</td>\n",
       "      <td>Approve in Full</td>\n",
       "      <td>NaT</td>\n",
       "      <td>2002-12-12 00:00:00</td>\n",
       "      <td>Other</td>\n",
       "      <td>NaN</td>\n",
       "      <td>Approved</td>\n",
       "    </tr>\n",
       "    <tr>\n",
       "      <th>1</th>\n",
       "      <td>NaN</td>\n",
       "      <td>SEA</td>\n",
       "      <td>Seattle-Tacoma International</td>\n",
       "      <td>100.00</td>\n",
       "      <td>0202417M</td>\n",
       "      <td>Checked Baggage</td>\n",
       "      <td>Property Damage</td>\n",
       "      <td>50</td>\n",
       "      <td>2002-02-02 00:00:00</td>\n",
       "      <td>Settle</td>\n",
       "      <td>NaT</td>\n",
       "      <td>2004-01-16 00:00:00</td>\n",
       "      <td>Luggage (all types including footlockers)</td>\n",
       "      <td>NaN</td>\n",
       "      <td>Settled</td>\n",
       "    </tr>\n",
       "    <tr>\n",
       "      <th>2</th>\n",
       "      <td>American Airlines</td>\n",
       "      <td>STL</td>\n",
       "      <td>Lambert St. Louis International</td>\n",
       "      <td>278.88</td>\n",
       "      <td>0202445M</td>\n",
       "      <td>Checked Baggage</td>\n",
       "      <td>Property Damage</td>\n",
       "      <td>227.92</td>\n",
       "      <td>2002-02-04 00:00:00</td>\n",
       "      <td>Settle</td>\n",
       "      <td>NaT</td>\n",
       "      <td>2003-11-26 00:00:00</td>\n",
       "      <td>Cell Phones</td>\n",
       "      <td>NaN</td>\n",
       "      <td>Settled</td>\n",
       "    </tr>\n",
       "  </tbody>\n",
       "</table>\n",
       "</div>"
      ],
      "text/plain": [
       "           Airline Name Airport Code                     Airport Name  \\\n",
       "0  Continental Airlines          EWR     Newark International Airport   \n",
       "1                   NaN          SEA     Seattle-Tacoma International   \n",
       "2     American Airlines          STL  Lambert St. Louis International   \n",
       "\n",
       "   Claim Amount Claim Number       Claim Site       Claim Type Close Amount  \\\n",
       "0        350.00     0909802M       Checkpoint  Property Damage          350   \n",
       "1        100.00     0202417M  Checked Baggage  Property Damage           50   \n",
       "2        278.88     0202445M  Checked Baggage  Property Damage       227.92   \n",
       "\n",
       "         Date Received      Disposition Incident D        Incident Date  \\\n",
       "0  2002-01-04 00:00:00  Approve in Full        NaT  2002-12-12 00:00:00   \n",
       "1  2002-02-02 00:00:00           Settle        NaT  2004-01-16 00:00:00   \n",
       "2  2002-02-04 00:00:00           Settle        NaT  2003-11-26 00:00:00   \n",
       "\n",
       "                                        Item Item Category    Status  \n",
       "0                                      Other           NaN  Approved  \n",
       "1  Luggage (all types including footlockers)           NaN   Settled  \n",
       "2                                Cell Phones           NaN   Settled  "
      ]
     },
     "execution_count": 4,
     "metadata": {},
     "output_type": "execute_result"
    }
   ],
   "source": [
    "df.head(n=3)"
   ]
  },
  {
   "cell_type": "code",
   "execution_count": 5,
   "metadata": {},
   "outputs": [
    {
     "data": {
      "text/plain": [
       "array(['Property Damage', 'Passenger Property Loss', nan, 'Motor Vehicle',\n",
       "       'Personal Injury', 'Passenger Theft', 'Employee Loss (MPCECA)',\n",
       "       '-', 'Bus Terminal', 'Complaint'], dtype=object)"
      ]
     },
     "execution_count": 5,
     "metadata": {},
     "output_type": "execute_result"
    }
   ],
   "source": [
    "df['Claim Type'].unique()"
   ]
  },
  {
   "cell_type": "code",
   "execution_count": 6,
   "metadata": {},
   "outputs": [
    {
     "data": {
      "text/plain": [
       "array(['Approve in Full', 'Settle'], dtype=object)"
      ]
     },
     "execution_count": 6,
     "metadata": {},
     "output_type": "execute_result"
    }
   ],
   "source": [
    "df['Disposition'].unique()"
   ]
  },
  {
   "cell_type": "code",
   "execution_count": 7,
   "metadata": {},
   "outputs": [
    {
     "data": {
      "text/plain": [
       "(81107, 15)"
      ]
     },
     "execution_count": 7,
     "metadata": {},
     "output_type": "execute_result"
    }
   ],
   "source": [
    "df.shape"
   ]
  },
  {
   "cell_type": "code",
   "execution_count": 8,
   "metadata": {},
   "outputs": [],
   "source": [
    "#df.Item.unique() #Bags, books, clothes and jewelry, electronics, other"
   ]
  },
  {
   "cell_type": "code",
   "execution_count": 9,
   "metadata": {},
   "outputs": [],
   "source": [
    "df['items'] = df['Item'].astype(str) + df['Item Category'].astype(str)"
   ]
  },
  {
   "cell_type": "code",
   "execution_count": 10,
   "metadata": {},
   "outputs": [],
   "source": [
    "df = df[['items', 'Date Received', 'Close Amount']]\n",
    "df = df.dropna(axis='rows')"
   ]
  },
  {
   "cell_type": "code",
   "execution_count": 11,
   "metadata": {},
   "outputs": [
    {
     "name": "stderr",
     "output_type": "stream",
     "text": [
      "/Users/cenchen/repos/prolific/lib/python3.7/site-packages/ipykernel_launcher.py:31: FutureWarning: set_value is deprecated and will be removed in a future release. Please use .at[] or .iat[] accessors instead\n"
     ]
    }
   ],
   "source": [
    "bags = ['bags', 'bag', 'luggage', \"accessories\"]\n",
    "books = ['books', 'book']\n",
    "clothes_and_jewlery = ['clothing', 'clothes', 'jewelry', 'watches']\n",
    "electronics = ['mp3', 'ipods', 'stereo', 'camera', 'players', \n",
    "               'cameras', 'phones', 'phone', 'computer']\n",
    "\n",
    "for i, row in df.iterrows():\n",
    "    lowered = row['items'].lower()\n",
    "    category = 'Other'\n",
    "\n",
    "    for j in bags:\n",
    "        if j in lowered:\n",
    "            category = 'Bags and luggage'\n",
    "            break\n",
    "            \n",
    "    for k in books:\n",
    "        if k in lowered and category == 'Other':\n",
    "            category = 'Books'\n",
    "            break\n",
    "    \n",
    "    for l in clothes_and_jewlery:\n",
    "        if l in lowered and category == 'Other':\n",
    "            category = 'Clothes and jewlery'\n",
    "            break\n",
    "\n",
    "    for m in electronics:\n",
    "        if m in lowered and category == 'Other':\n",
    "            category = 'Electronics of various kinds'\n",
    "            break\n",
    "    \n",
    "    df.set_value(i,  'category', category)"
   ]
  },
  {
   "cell_type": "code",
   "execution_count": 12,
   "metadata": {},
   "outputs": [
    {
     "data": {
      "text/plain": [
       "array(['Other', 'Clothes and jewlery', 'Bags and luggage',\n",
       "       'Electronics of various kinds', 'Books'], dtype=object)"
      ]
     },
     "execution_count": 12,
     "metadata": {},
     "output_type": "execute_result"
    }
   ],
   "source": [
    "df.category.unique()"
   ]
  },
  {
   "cell_type": "code",
   "execution_count": 13,
   "metadata": {},
   "outputs": [
    {
     "name": "stderr",
     "output_type": "stream",
     "text": [
      "/Users/cenchen/repos/prolific/lib/python3.7/site-packages/ipykernel_launcher.py:9: FutureWarning: set_value is deprecated and will be removed in a future release. Please use .at[] or .iat[] accessors instead\n",
      "  if __name__ == '__main__':\n"
     ]
    }
   ],
   "source": [
    "for i, row in df.iterrows():\n",
    "    year = None\n",
    "    try:\n",
    "        year = int(row['Date Received'].year)\n",
    "    except Exception:\n",
    "        print(row['Date Received'])\n",
    "        year = -1\n",
    "    \n",
    "    df.set_value(i,  'year', year)"
   ]
  },
  {
   "cell_type": "code",
   "execution_count": 14,
   "metadata": {},
   "outputs": [
    {
     "data": {
      "text/plain": [
       "(80889, 5)"
      ]
     },
     "execution_count": 14,
     "metadata": {},
     "output_type": "execute_result"
    }
   ],
   "source": [
    "df.shape"
   ]
  },
  {
   "cell_type": "code",
   "execution_count": 15,
   "metadata": {},
   "outputs": [],
   "source": [
    "y_range = list(df.category.unique())"
   ]
  },
  {
   "cell_type": "code",
   "execution_count": 16,
   "metadata": {},
   "outputs": [
    {
     "data": {
      "text/plain": [
       "['Other',\n",
       " 'Clothes and jewlery',\n",
       " 'Bags and luggage',\n",
       " 'Electronics of various kinds',\n",
       " 'Books']"
      ]
     },
     "execution_count": 16,
     "metadata": {},
     "output_type": "execute_result"
    }
   ],
   "source": [
    "y_range"
   ]
  },
  {
   "cell_type": "code",
   "execution_count": 17,
   "metadata": {},
   "outputs": [
    {
     "data": {
      "text/plain": [
       "array([2002., 2015., 2007., 2014., 2010., 2003., 2011., 2008., 2012.,\n",
       "       2004., 2013., 2009., 2005., 2006., 2020., 2025., 2040., 2094.,\n",
       "       2204., 2205., 2206., 2207., 2500., 3005.])"
      ]
     },
     "execution_count": 17,
     "metadata": {},
     "output_type": "execute_result"
    }
   ],
   "source": [
    "df.year.unique()"
   ]
  },
  {
   "cell_type": "code",
   "execution_count": 18,
   "metadata": {},
   "outputs": [],
   "source": [
    "df = df[df['year']>0]\n",
    "REAL_YEARS = [2002, 2003, 2004, 2005, 2006, 2007, 2008,\n",
    "              2009, 2010, 2011, 2012, 2013, 2014, 2015]"
   ]
  },
  {
   "cell_type": "code",
   "execution_count": 19,
   "metadata": {},
   "outputs": [],
   "source": [
    "# Group by year"
   ]
  },
  {
   "cell_type": "code",
   "execution_count": 20,
   "metadata": {},
   "outputs": [],
   "source": [
    "from bokeh.io import output_file, show\n",
    "from bokeh.models import ColumnDataSource\n",
    "from bokeh.palettes import Inferno, Viridis, d3 #GnBu10, OrRd5\n",
    "from bokeh.plotting import figure\n"
   ]
  },
  {
   "cell_type": "code",
   "execution_count": 21,
   "metadata": {},
   "outputs": [],
   "source": [
    "output_file(\"bar_stacked_split.html\")"
   ]
  },
  {
   "cell_type": "code",
   "execution_count": 22,
   "metadata": {},
   "outputs": [],
   "source": [
    "plotting = df.groupby(['year', 'category'], as_index=False).agg({'Close Amount': sum})"
   ]
  },
  {
   "cell_type": "code",
   "execution_count": 23,
   "metadata": {},
   "outputs": [
    {
     "data": {
      "text/html": [
       "<div>\n",
       "<style scoped>\n",
       "    .dataframe tbody tr th:only-of-type {\n",
       "        vertical-align: middle;\n",
       "    }\n",
       "\n",
       "    .dataframe tbody tr th {\n",
       "        vertical-align: top;\n",
       "    }\n",
       "\n",
       "    .dataframe thead th {\n",
       "        text-align: right;\n",
       "    }\n",
       "</style>\n",
       "<table border=\"1\" class=\"dataframe\">\n",
       "  <thead>\n",
       "    <tr style=\"text-align: right;\">\n",
       "      <th></th>\n",
       "      <th>year</th>\n",
       "      <th>category</th>\n",
       "      <th>Close Amount</th>\n",
       "    </tr>\n",
       "  </thead>\n",
       "  <tbody>\n",
       "    <tr>\n",
       "      <th>0</th>\n",
       "      <td>2002.0</td>\n",
       "      <td>Bags and luggage</td>\n",
       "      <td>9855.91</td>\n",
       "    </tr>\n",
       "    <tr>\n",
       "      <th>1</th>\n",
       "      <td>2002.0</td>\n",
       "      <td>Clothes and jewlery</td>\n",
       "      <td>3606.45</td>\n",
       "    </tr>\n",
       "    <tr>\n",
       "      <th>2</th>\n",
       "      <td>2002.0</td>\n",
       "      <td>Electronics of various kinds</td>\n",
       "      <td>10916.81</td>\n",
       "    </tr>\n",
       "    <tr>\n",
       "      <th>3</th>\n",
       "      <td>2002.0</td>\n",
       "      <td>Other</td>\n",
       "      <td>12876.22</td>\n",
       "    </tr>\n",
       "    <tr>\n",
       "      <th>4</th>\n",
       "      <td>2003.0</td>\n",
       "      <td>Bags and luggage</td>\n",
       "      <td>235949.06</td>\n",
       "    </tr>\n",
       "  </tbody>\n",
       "</table>\n",
       "</div>"
      ],
      "text/plain": [
       "     year                      category  Close Amount\n",
       "0  2002.0              Bags and luggage       9855.91\n",
       "1  2002.0           Clothes and jewlery       3606.45\n",
       "2  2002.0  Electronics of various kinds      10916.81\n",
       "3  2002.0                         Other      12876.22\n",
       "4  2003.0              Bags and luggage     235949.06"
      ]
     },
     "execution_count": 23,
     "metadata": {},
     "output_type": "execute_result"
    }
   ],
   "source": [
    "plotting.head()"
   ]
  },
  {
   "cell_type": "code",
   "execution_count": 24,
   "metadata": {},
   "outputs": [],
   "source": [
    "dct = {'Other': 0,\n",
    "       'Electronics of various kinds': 0,\n",
    "       'Bags and luggage': 0,\n",
    "       'Clothes and jewlery': 0,\n",
    "       'Books': 0}"
   ]
  },
  {
   "cell_type": "code",
   "execution_count": 25,
   "metadata": {},
   "outputs": [],
   "source": [
    "data = []\n",
    "for yr in REAL_YEARS:\n",
    "    for k, v in dct.items():\n",
    "        data.append({'year': yr, 'category': k,\n",
    "                     'Close Amount': v})\n",
    "default_df = pd.DataFrame(data)"
   ]
  },
  {
   "cell_type": "code",
   "execution_count": 26,
   "metadata": {},
   "outputs": [],
   "source": [
    "plotting = plotting.merge(default_df, how='outer', on=['year', 'category'])"
   ]
  },
  {
   "cell_type": "code",
   "execution_count": 27,
   "metadata": {},
   "outputs": [
    {
     "name": "stderr",
     "output_type": "stream",
     "text": [
      "/Users/cenchen/repos/prolific/lib/python3.7/site-packages/ipykernel_launcher.py:5: FutureWarning: set_value is deprecated and will be removed in a future release. Please use .at[] or .iat[] accessors instead\n",
      "  \"\"\"\n"
     ]
    }
   ],
   "source": [
    "for i, r in plotting.iterrows():\n",
    "    amt = 0\n",
    "    if r['Close Amount_x'] > 0:\n",
    "        amt = r['Close Amount_x']\n",
    "    plotting.set_value(i,  'amount', amt)"
   ]
  },
  {
   "cell_type": "code",
   "execution_count": 28,
   "metadata": {},
   "outputs": [
    {
     "data": {
      "text/plain": [
       "{'Categories': ['Bags and luggage',\n",
       "  'Books',\n",
       "  'Clothes and jewlery',\n",
       "  'Electronics of various kinds',\n",
       "  'Other'],\n",
       " '2002': [],\n",
       " '2003': [],\n",
       " '2004': [],\n",
       " '2005': [],\n",
       " '2006': [],\n",
       " '2007': [],\n",
       " '2008': [],\n",
       " '2009': [],\n",
       " '2010': [],\n",
       " '2011': [],\n",
       " '2012': [],\n",
       " '2013': [],\n",
       " '2014': [],\n",
       " '2015': []}"
      ]
     },
     "execution_count": 28,
     "metadata": {},
     "output_type": "execute_result"
    }
   ],
   "source": [
    "categories = ['Bags and luggage', 'Books', 'Clothes and jewlery',\n",
    "              'Electronics of various kinds', 'Other']\n",
    "sub_categories = REAL_YEARS\n",
    "data = {'Categories': categories}\n",
    "for sub in sub_categories:\n",
    "    data[str(sub)] = []\n",
    "    \n",
    "data"
   ]
  },
  {
   "cell_type": "code",
   "execution_count": 29,
   "metadata": {},
   "outputs": [],
   "source": [
    "plotting = plotting.sort_values(by=['category', 'year'])"
   ]
  },
  {
   "cell_type": "code",
   "execution_count": 30,
   "metadata": {},
   "outputs": [
    {
     "data": {
      "text/html": [
       "<div>\n",
       "<style scoped>\n",
       "    .dataframe tbody tr th:only-of-type {\n",
       "        vertical-align: middle;\n",
       "    }\n",
       "\n",
       "    .dataframe tbody tr th {\n",
       "        vertical-align: top;\n",
       "    }\n",
       "\n",
       "    .dataframe thead th {\n",
       "        text-align: right;\n",
       "    }\n",
       "</style>\n",
       "<table border=\"1\" class=\"dataframe\">\n",
       "  <thead>\n",
       "    <tr style=\"text-align: right;\">\n",
       "      <th></th>\n",
       "      <th>year</th>\n",
       "      <th>category</th>\n",
       "      <th>Close Amount_x</th>\n",
       "      <th>Close Amount_y</th>\n",
       "      <th>amount</th>\n",
       "    </tr>\n",
       "  </thead>\n",
       "  <tbody>\n",
       "    <tr>\n",
       "      <th>0</th>\n",
       "      <td>2002.0</td>\n",
       "      <td>Bags and luggage</td>\n",
       "      <td>9855.91</td>\n",
       "      <td>0.0</td>\n",
       "      <td>9855.91</td>\n",
       "    </tr>\n",
       "    <tr>\n",
       "      <th>4</th>\n",
       "      <td>2003.0</td>\n",
       "      <td>Bags and luggage</td>\n",
       "      <td>235949.06</td>\n",
       "      <td>0.0</td>\n",
       "      <td>235949.06</td>\n",
       "    </tr>\n",
       "    <tr>\n",
       "      <th>8</th>\n",
       "      <td>2004.0</td>\n",
       "      <td>Bags and luggage</td>\n",
       "      <td>360740.95</td>\n",
       "      <td>0.0</td>\n",
       "      <td>360740.95</td>\n",
       "    </tr>\n",
       "  </tbody>\n",
       "</table>\n",
       "</div>"
      ],
      "text/plain": [
       "     year          category  Close Amount_x  Close Amount_y     amount\n",
       "0  2002.0  Bags and luggage         9855.91             0.0    9855.91\n",
       "4  2003.0  Bags and luggage       235949.06             0.0  235949.06\n",
       "8  2004.0  Bags and luggage       360740.95             0.0  360740.95"
      ]
     },
     "execution_count": 30,
     "metadata": {},
     "output_type": "execute_result"
    }
   ],
   "source": [
    "plotting.head(n=3)"
   ]
  },
  {
   "cell_type": "code",
   "execution_count": 31,
   "metadata": {},
   "outputs": [],
   "source": [
    "for i, r in plotting.iterrows():\n",
    "    if r['year'] in REAL_YEARS:\n",
    "        good_year = str(int(r['year']))\n",
    "        data[good_year].append(r['amount'])"
   ]
  },
  {
   "cell_type": "code",
   "execution_count": 32,
   "metadata": {},
   "outputs": [
    {
     "data": {
      "text/plain": [
       "{'Categories': ['Bags and luggage',\n",
       "  'Books',\n",
       "  'Clothes and jewlery',\n",
       "  'Electronics of various kinds',\n",
       "  'Other'],\n",
       " '2002': [9855.91, 0.0, 3606.45, 10916.81, 12876.22],\n",
       " '2003': [235949.06000000003, 0.0, 180988.53, 250283.7, 468978.6400000006],\n",
       " '2004': [360740.9500000002,\n",
       "  0.0,\n",
       "  384068.69999999966,\n",
       "  532669.8699999994,\n",
       "  915037.0799999945],\n",
       " '2005': [346881.77999999974,\n",
       "  0.0,\n",
       "  269525.52999999997,\n",
       "  553951.1799999992,\n",
       "  892788.3099999935],\n",
       " '2006': [245658.81999999998,\n",
       "  2301.5900000000006,\n",
       "  204396.5300000001,\n",
       "  473016.39999999915,\n",
       "  582581.1999999982],\n",
       " '2007': [158743.91000000003,\n",
       "  1344.16,\n",
       "  95295.23000000003,\n",
       "  216112.1,\n",
       "  321113.07999999996],\n",
       " '2008': [148335.69000000012,\n",
       "  1758.1000000000001,\n",
       "  78736.92,\n",
       "  231933.1699999998,\n",
       "  320657.90999999986],\n",
       " '2009': [132620.67,\n",
       "  2219.9900000000007,\n",
       "  74024.42,\n",
       "  202965.39,\n",
       "  476225.15999999916],\n",
       " '2010': [251933.38999999993,\n",
       "  1696.88,\n",
       "  104355.7600000001,\n",
       "  22428.3,\n",
       "  208771.51000000015],\n",
       " '2011': [588923.749999999,\n",
       "  2751.7699999999995,\n",
       "  177868.1699999999,\n",
       "  39179.12999999999,\n",
       "  554521.7699999984],\n",
       " '2012': [589515.4699999988,\n",
       "  3566.8999999999987,\n",
       "  230991.05999999994,\n",
       "  36782.79000000001,\n",
       "  632429.7699999991],\n",
       " '2013': [395346.3099999992,\n",
       "  3076.0499999999997,\n",
       "  118700.84000000003,\n",
       "  21572.48,\n",
       "  478291.15999999945],\n",
       " '2014': [274893.5399999996,\n",
       "  1100.07,\n",
       "  93363.3299999999,\n",
       "  13103.460000000003,\n",
       "  341878.9999999995],\n",
       " '2015': [577265.85,\n",
       "  5356.819999999999,\n",
       "  224932.23999999985,\n",
       "  25188.740000000013,\n",
       "  675471.0099999971]}"
      ]
     },
     "execution_count": 32,
     "metadata": {},
     "output_type": "execute_result"
    }
   ],
   "source": [
    "data"
   ]
  },
  {
   "cell_type": "code",
   "execution_count": 33,
   "metadata": {},
   "outputs": [],
   "source": [
    "subs = []\n",
    "for i in REAL_YEARS:\n",
    "    subs.append(str(i))"
   ]
  },
  {
   "cell_type": "code",
   "execution_count": 34,
   "metadata": {},
   "outputs": [],
   "source": [
    "c14 =  d3['Category20c'][14] #Inferno[14] #Viridis[10]\n",
    "c13 =  d3['Category20c'][13] #Inferno[14] #Viridis[10]"
   ]
  },
  {
   "cell_type": "code",
   "execution_count": 35,
   "metadata": {
    "scrolled": true
   },
   "outputs": [],
   "source": [
    "from bokeh.models import NumeralTickFormatter\n",
    "p = figure(y_range=y_range, x_range=[0, 8000000],\n",
    "           plot_height=600,\n",
    "           title=\"Approved or settled claims by category, by year\",\n",
    "           toolbar_location=None)\n",
    "\n",
    "p.hbar_stack(subs, y='Categories',\n",
    "             height=0.9,\n",
    "             color=c14,\n",
    "             source=ColumnDataSource(data),\n",
    "             legend=[\"%s \" % x for x in subs])\n",
    "\n",
    "p.y_range.range_padding = 0.1\n",
    "p.ygrid.grid_line_color = None\n",
    "p.legend.location = \"top_right\"\n",
    "p.axis.minor_tick_line_color = None\n",
    "p.outline_line_color = None\n",
    "p.xaxis.formatter=NumeralTickFormatter(format=\"0.0a\")\n",
    "\n",
    "top = p"
   ]
  },
  {
   "cell_type": "code",
   "execution_count": 36,
   "metadata": {},
   "outputs": [],
   "source": [
    "#show(p)"
   ]
  },
  {
   "cell_type": "markdown",
   "metadata": {},
   "source": [
    "## Second visualization\n",
    "Which airlines are paying out the most/least"
   ]
  },
  {
   "cell_type": "code",
   "execution_count": 37,
   "metadata": {},
   "outputs": [
    {
     "name": "stderr",
     "output_type": "stream",
     "text": [
      "/Users/cenchen/repos/prolific/lib/python3.7/site-packages/ipykernel_launcher.py:1: FutureWarning: Sorting because non-concatenation axis is not aligned. A future version\n",
      "of pandas will change to not sort by default.\n",
      "\n",
      "To accept the future behavior, pass 'sort=False'.\n",
      "\n",
      "To retain the current behavior and silence the warning, pass 'sort=True'.\n",
      "\n",
      "  \"\"\"Entry point for launching an IPython kernel.\n"
     ]
    }
   ],
   "source": [
    "df = pd.concat(frames)"
   ]
  },
  {
   "cell_type": "code",
   "execution_count": 38,
   "metadata": {},
   "outputs": [],
   "source": [
    "df = df[['Airport Code', 'Date Received', 'Close Amount']]\n",
    "df = df.dropna(axis='rows')"
   ]
  },
  {
   "cell_type": "code",
   "execution_count": 39,
   "metadata": {},
   "outputs": [],
   "source": [
    "airports = list(df['Airport Code'].unique())"
   ]
  },
  {
   "cell_type": "code",
   "execution_count": 40,
   "metadata": {},
   "outputs": [
    {
     "name": "stderr",
     "output_type": "stream",
     "text": [
      "/Users/cenchen/repos/prolific/lib/python3.7/site-packages/ipykernel_launcher.py:9: FutureWarning: set_value is deprecated and will be removed in a future release. Please use .at[] or .iat[] accessors instead\n",
      "  if __name__ == '__main__':\n"
     ]
    }
   ],
   "source": [
    "for i, row in df.iterrows():\n",
    "    year = None\n",
    "    try:\n",
    "        year = str(int(row['Date Received'].year))\n",
    "    except Exception:\n",
    "        print(row['Date Received'])\n",
    "        year = -1\n",
    "    \n",
    "    df.set_value(i,  'year', year)"
   ]
  },
  {
   "cell_type": "code",
   "execution_count": 41,
   "metadata": {},
   "outputs": [],
   "source": [
    "plotting = df.groupby(['year', 'Airport Code'], as_index=False).agg({'Close Amount': sum})"
   ]
  },
  {
   "cell_type": "code",
   "execution_count": 42,
   "metadata": {},
   "outputs": [],
   "source": [
    "grp = df.groupby(['Airport Code'], as_index=False).agg({'Close Amount': sum})"
   ]
  },
  {
   "cell_type": "code",
   "execution_count": 43,
   "metadata": {
    "scrolled": true
   },
   "outputs": [
    {
     "data": {
      "text/html": [
       "<div>\n",
       "<style scoped>\n",
       "    .dataframe tbody tr th:only-of-type {\n",
       "        vertical-align: middle;\n",
       "    }\n",
       "\n",
       "    .dataframe tbody tr th {\n",
       "        vertical-align: top;\n",
       "    }\n",
       "\n",
       "    .dataframe thead th {\n",
       "        text-align: right;\n",
       "    }\n",
       "</style>\n",
       "<table border=\"1\" class=\"dataframe\">\n",
       "  <thead>\n",
       "    <tr style=\"text-align: right;\">\n",
       "      <th></th>\n",
       "      <th>year</th>\n",
       "      <th>Airport Code</th>\n",
       "      <th>Close Amount</th>\n",
       "    </tr>\n",
       "  </thead>\n",
       "  <tbody>\n",
       "    <tr>\n",
       "      <th>0</th>\n",
       "      <td>2002</td>\n",
       "      <td>ATL</td>\n",
       "      <td>1022.0</td>\n",
       "    </tr>\n",
       "    <tr>\n",
       "      <th>1</th>\n",
       "      <td>2002</td>\n",
       "      <td>AUS</td>\n",
       "      <td>23.0</td>\n",
       "    </tr>\n",
       "    <tr>\n",
       "      <th>2</th>\n",
       "      <td>2002</td>\n",
       "      <td>BDL</td>\n",
       "      <td>480.0</td>\n",
       "    </tr>\n",
       "    <tr>\n",
       "      <th>3</th>\n",
       "      <td>2002</td>\n",
       "      <td>BHM</td>\n",
       "      <td>20.0</td>\n",
       "    </tr>\n",
       "    <tr>\n",
       "      <th>4</th>\n",
       "      <td>2002</td>\n",
       "      <td>BNA</td>\n",
       "      <td>110.0</td>\n",
       "    </tr>\n",
       "  </tbody>\n",
       "</table>\n",
       "</div>"
      ],
      "text/plain": [
       "   year Airport Code  Close Amount\n",
       "0  2002          ATL        1022.0\n",
       "1  2002          AUS          23.0\n",
       "2  2002          BDL         480.0\n",
       "3  2002          BHM          20.0\n",
       "4  2002          BNA         110.0"
      ]
     },
     "execution_count": 43,
     "metadata": {},
     "output_type": "execute_result"
    }
   ],
   "source": [
    "plotting.head()"
   ]
  },
  {
   "cell_type": "code",
   "execution_count": 44,
   "metadata": {},
   "outputs": [],
   "source": [
    "grp['total'] = grp['Close Amount']\n",
    "del grp['Close Amount']"
   ]
  },
  {
   "cell_type": "code",
   "execution_count": 45,
   "metadata": {},
   "outputs": [
    {
     "data": {
      "text/html": [
       "<div>\n",
       "<style scoped>\n",
       "    .dataframe tbody tr th:only-of-type {\n",
       "        vertical-align: middle;\n",
       "    }\n",
       "\n",
       "    .dataframe tbody tr th {\n",
       "        vertical-align: top;\n",
       "    }\n",
       "\n",
       "    .dataframe thead th {\n",
       "        text-align: right;\n",
       "    }\n",
       "</style>\n",
       "<table border=\"1\" class=\"dataframe\">\n",
       "  <thead>\n",
       "    <tr style=\"text-align: right;\">\n",
       "      <th></th>\n",
       "      <th>Airport Code</th>\n",
       "      <th>total</th>\n",
       "    </tr>\n",
       "  </thead>\n",
       "  <tbody>\n",
       "    <tr>\n",
       "      <th>0</th>\n",
       "      <td>ABE</td>\n",
       "      <td>9523.94</td>\n",
       "    </tr>\n",
       "    <tr>\n",
       "      <th>1</th>\n",
       "      <td>ABI</td>\n",
       "      <td>2297.68</td>\n",
       "    </tr>\n",
       "    <tr>\n",
       "      <th>2</th>\n",
       "      <td>ABQ</td>\n",
       "      <td>66639.88</td>\n",
       "    </tr>\n",
       "    <tr>\n",
       "      <th>3</th>\n",
       "      <td>ABR</td>\n",
       "      <td>1347.01</td>\n",
       "    </tr>\n",
       "    <tr>\n",
       "      <th>4</th>\n",
       "      <td>ABY</td>\n",
       "      <td>815.09</td>\n",
       "    </tr>\n",
       "  </tbody>\n",
       "</table>\n",
       "</div>"
      ],
      "text/plain": [
       "  Airport Code     total\n",
       "0          ABE   9523.94\n",
       "1          ABI   2297.68\n",
       "2          ABQ  66639.88\n",
       "3          ABR   1347.01\n",
       "4          ABY    815.09"
      ]
     },
     "execution_count": 45,
     "metadata": {},
     "output_type": "execute_result"
    }
   ],
   "source": [
    "grp.head()"
   ]
  },
  {
   "cell_type": "code",
   "execution_count": 46,
   "metadata": {},
   "outputs": [],
   "source": [
    "plotting = plotting.merge(grp, on='Airport Code')"
   ]
  },
  {
   "cell_type": "code",
   "execution_count": 47,
   "metadata": {},
   "outputs": [
    {
     "data": {
      "text/html": [
       "<div>\n",
       "<style scoped>\n",
       "    .dataframe tbody tr th:only-of-type {\n",
       "        vertical-align: middle;\n",
       "    }\n",
       "\n",
       "    .dataframe tbody tr th {\n",
       "        vertical-align: top;\n",
       "    }\n",
       "\n",
       "    .dataframe thead th {\n",
       "        text-align: right;\n",
       "    }\n",
       "</style>\n",
       "<table border=\"1\" class=\"dataframe\">\n",
       "  <thead>\n",
       "    <tr style=\"text-align: right;\">\n",
       "      <th></th>\n",
       "      <th>Close Amount</th>\n",
       "      <th>total</th>\n",
       "    </tr>\n",
       "  </thead>\n",
       "  <tbody>\n",
       "    <tr>\n",
       "      <th>count</th>\n",
       "      <td>3239.000000</td>\n",
       "      <td>3239.000000</td>\n",
       "    </tr>\n",
       "    <tr>\n",
       "      <th>mean</th>\n",
       "      <td>4854.459759</td>\n",
       "      <td>66907.876817</td>\n",
       "    </tr>\n",
       "    <tr>\n",
       "      <th>std</th>\n",
       "      <td>11638.169300</td>\n",
       "      <td>135905.924459</td>\n",
       "    </tr>\n",
       "    <tr>\n",
       "      <th>min</th>\n",
       "      <td>5.000000</td>\n",
       "      <td>6.350000</td>\n",
       "    </tr>\n",
       "    <tr>\n",
       "      <th>25%</th>\n",
       "      <td>155.560000</td>\n",
       "      <td>2685.090000</td>\n",
       "    </tr>\n",
       "    <tr>\n",
       "      <th>50%</th>\n",
       "      <td>641.060000</td>\n",
       "      <td>10510.150000</td>\n",
       "    </tr>\n",
       "    <tr>\n",
       "      <th>75%</th>\n",
       "      <td>3587.385000</td>\n",
       "      <td>55221.370000</td>\n",
       "    </tr>\n",
       "    <tr>\n",
       "      <th>max</th>\n",
       "      <td>140181.980000</td>\n",
       "      <td>965646.980000</td>\n",
       "    </tr>\n",
       "  </tbody>\n",
       "</table>\n",
       "</div>"
      ],
      "text/plain": [
       "        Close Amount          total\n",
       "count    3239.000000    3239.000000\n",
       "mean     4854.459759   66907.876817\n",
       "std     11638.169300  135905.924459\n",
       "min         5.000000       6.350000\n",
       "25%       155.560000    2685.090000\n",
       "50%       641.060000   10510.150000\n",
       "75%      3587.385000   55221.370000\n",
       "max    140181.980000  965646.980000"
      ]
     },
     "execution_count": 47,
     "metadata": {},
     "output_type": "execute_result"
    }
   ],
   "source": [
    "plotting.describe()"
   ]
  },
  {
   "cell_type": "code",
   "execution_count": 48,
   "metadata": {},
   "outputs": [
    {
     "data": {
      "text/plain": [
       "345437.3999999993"
      ]
     },
     "execution_count": 48,
     "metadata": {},
     "output_type": "execute_result"
    }
   ],
   "source": [
    "plotting.total.quantile(.95)"
   ]
  },
  {
   "cell_type": "code",
   "execution_count": 49,
   "metadata": {},
   "outputs": [],
   "source": [
    "plotting = plotting[plotting['total']>=plotting.total.quantile(.95)]"
   ]
  },
  {
   "cell_type": "code",
   "execution_count": 50,
   "metadata": {},
   "outputs": [
    {
     "data": {
      "text/plain": [
       "(174, 4)"
      ]
     },
     "execution_count": 50,
     "metadata": {},
     "output_type": "execute_result"
    }
   ],
   "source": [
    "plotting.shape"
   ]
  },
  {
   "cell_type": "code",
   "execution_count": 51,
   "metadata": {},
   "outputs": [],
   "source": [
    "airports = list(plotting['Airport Code'].unique())\n",
    "airports = sorted(airports)\n",
    "years = list(plotting['year'].unique())"
   ]
  },
  {
   "cell_type": "code",
   "execution_count": 52,
   "metadata": {},
   "outputs": [
    {
     "name": "stdout",
     "output_type": "stream",
     "text": [
      "['ATL', 'BOS', 'DFW', 'EWR', 'JFK', 'LAX', 'LGA', 'MCO', 'MIA', 'ORD', 'PHX', 'SEA']\n"
     ]
    }
   ],
   "source": [
    "print(airports)"
   ]
  },
  {
   "cell_type": "code",
   "execution_count": 53,
   "metadata": {},
   "outputs": [
    {
     "data": {
      "text/plain": [
       "12"
      ]
     },
     "execution_count": 53,
     "metadata": {},
     "output_type": "execute_result"
    }
   ],
   "source": [
    "len(airports)"
   ]
  },
  {
   "cell_type": "code",
   "execution_count": 54,
   "metadata": {},
   "outputs": [],
   "source": [
    "STRING_YEARS = [str(r) for r in REAL_YEARS]"
   ]
  },
  {
   "cell_type": "code",
   "execution_count": 55,
   "metadata": {},
   "outputs": [],
   "source": [
    "data = []\n",
    "for yr in STRING_YEARS:\n",
    "    for airport in airports:\n",
    "        data.append({'year': yr, 'Airport Code': airport,\n",
    "                     'Close Amount': 0})\n",
    "default_df = pd.DataFrame(data)"
   ]
  },
  {
   "cell_type": "code",
   "execution_count": 56,
   "metadata": {},
   "outputs": [],
   "source": [
    "plotting = plotting.merge(default_df, how='outer', on=['year', 'Airport Code'])"
   ]
  },
  {
   "cell_type": "code",
   "execution_count": 57,
   "metadata": {},
   "outputs": [],
   "source": [
    "plotting['amount'] = plotting['Close Amount_x'] + plotting['Close Amount_y']"
   ]
  },
  {
   "cell_type": "code",
   "execution_count": 58,
   "metadata": {
    "scrolled": true
   },
   "outputs": [
    {
     "data": {
      "text/html": [
       "<div>\n",
       "<style scoped>\n",
       "    .dataframe tbody tr th:only-of-type {\n",
       "        vertical-align: middle;\n",
       "    }\n",
       "\n",
       "    .dataframe tbody tr th {\n",
       "        vertical-align: top;\n",
       "    }\n",
       "\n",
       "    .dataframe thead th {\n",
       "        text-align: right;\n",
       "    }\n",
       "</style>\n",
       "<table border=\"1\" class=\"dataframe\">\n",
       "  <thead>\n",
       "    <tr style=\"text-align: right;\">\n",
       "      <th></th>\n",
       "      <th>year</th>\n",
       "      <th>Airport Code</th>\n",
       "      <th>Close Amount_x</th>\n",
       "      <th>total</th>\n",
       "      <th>Close Amount_y</th>\n",
       "      <th>amount</th>\n",
       "    </tr>\n",
       "  </thead>\n",
       "  <tbody>\n",
       "    <tr>\n",
       "      <th>0</th>\n",
       "      <td>2002</td>\n",
       "      <td>ATL</td>\n",
       "      <td>1022.00</td>\n",
       "      <td>471122.13</td>\n",
       "      <td>0.0</td>\n",
       "      <td>1022.00</td>\n",
       "    </tr>\n",
       "    <tr>\n",
       "      <th>1</th>\n",
       "      <td>2003</td>\n",
       "      <td>ATL</td>\n",
       "      <td>19911.30</td>\n",
       "      <td>471122.13</td>\n",
       "      <td>0.0</td>\n",
       "      <td>19911.30</td>\n",
       "    </tr>\n",
       "    <tr>\n",
       "      <th>2</th>\n",
       "      <td>2004</td>\n",
       "      <td>ATL</td>\n",
       "      <td>52128.54</td>\n",
       "      <td>471122.13</td>\n",
       "      <td>0.0</td>\n",
       "      <td>52128.54</td>\n",
       "    </tr>\n",
       "    <tr>\n",
       "      <th>3</th>\n",
       "      <td>2005</td>\n",
       "      <td>ATL</td>\n",
       "      <td>61882.41</td>\n",
       "      <td>471122.13</td>\n",
       "      <td>0.0</td>\n",
       "      <td>61882.41</td>\n",
       "    </tr>\n",
       "    <tr>\n",
       "      <th>4</th>\n",
       "      <td>2006</td>\n",
       "      <td>ATL</td>\n",
       "      <td>44161.03</td>\n",
       "      <td>471122.13</td>\n",
       "      <td>0.0</td>\n",
       "      <td>44161.03</td>\n",
       "    </tr>\n",
       "  </tbody>\n",
       "</table>\n",
       "</div>"
      ],
      "text/plain": [
       "   year Airport Code  Close Amount_x      total  Close Amount_y    amount\n",
       "0  2002          ATL         1022.00  471122.13             0.0   1022.00\n",
       "1  2003          ATL        19911.30  471122.13             0.0  19911.30\n",
       "2  2004          ATL        52128.54  471122.13             0.0  52128.54\n",
       "3  2005          ATL        61882.41  471122.13             0.0  61882.41\n",
       "4  2006          ATL        44161.03  471122.13             0.0  44161.03"
      ]
     },
     "execution_count": 58,
     "metadata": {},
     "output_type": "execute_result"
    }
   ],
   "source": [
    "plotting.head()"
   ]
  },
  {
   "cell_type": "code",
   "execution_count": 59,
   "metadata": {},
   "outputs": [
    {
     "data": {
      "text/plain": [
       "array(['2002', '2003', '2004', '2005', '2006', '2007', '2008', '2009',\n",
       "       '2010', '2011', '2012', '2013', '2014', '2015', '2040', '2500',\n",
       "       '2020', '2094', '2025', '2207'], dtype=object)"
      ]
     },
     "execution_count": 59,
     "metadata": {},
     "output_type": "execute_result"
    }
   ],
   "source": [
    "plotting.year.unique()"
   ]
  },
  {
   "cell_type": "code",
   "execution_count": 60,
   "metadata": {},
   "outputs": [],
   "source": [
    "sub_categories = STRING_YEARS\n",
    "data = {'Categories': airports}\n",
    "for sub in sub_categories:\n",
    "    data[sub] = []"
   ]
  },
  {
   "cell_type": "code",
   "execution_count": 61,
   "metadata": {},
   "outputs": [],
   "source": [
    "plotting = plotting.sort_values(by=['Airport Code', 'year'])"
   ]
  },
  {
   "cell_type": "code",
   "execution_count": 62,
   "metadata": {},
   "outputs": [
    {
     "data": {
      "text/html": [
       "<div>\n",
       "<style scoped>\n",
       "    .dataframe tbody tr th:only-of-type {\n",
       "        vertical-align: middle;\n",
       "    }\n",
       "\n",
       "    .dataframe tbody tr th {\n",
       "        vertical-align: top;\n",
       "    }\n",
       "\n",
       "    .dataframe thead th {\n",
       "        text-align: right;\n",
       "    }\n",
       "</style>\n",
       "<table border=\"1\" class=\"dataframe\">\n",
       "  <thead>\n",
       "    <tr style=\"text-align: right;\">\n",
       "      <th></th>\n",
       "      <th>year</th>\n",
       "      <th>Airport Code</th>\n",
       "      <th>Close Amount_x</th>\n",
       "      <th>total</th>\n",
       "      <th>Close Amount_y</th>\n",
       "      <th>amount</th>\n",
       "    </tr>\n",
       "  </thead>\n",
       "  <tbody>\n",
       "    <tr>\n",
       "      <th>0</th>\n",
       "      <td>2002</td>\n",
       "      <td>ATL</td>\n",
       "      <td>1022.00</td>\n",
       "      <td>471122.13</td>\n",
       "      <td>0.0</td>\n",
       "      <td>1022.00</td>\n",
       "    </tr>\n",
       "    <tr>\n",
       "      <th>1</th>\n",
       "      <td>2003</td>\n",
       "      <td>ATL</td>\n",
       "      <td>19911.30</td>\n",
       "      <td>471122.13</td>\n",
       "      <td>0.0</td>\n",
       "      <td>19911.30</td>\n",
       "    </tr>\n",
       "    <tr>\n",
       "      <th>2</th>\n",
       "      <td>2004</td>\n",
       "      <td>ATL</td>\n",
       "      <td>52128.54</td>\n",
       "      <td>471122.13</td>\n",
       "      <td>0.0</td>\n",
       "      <td>52128.54</td>\n",
       "    </tr>\n",
       "  </tbody>\n",
       "</table>\n",
       "</div>"
      ],
      "text/plain": [
       "   year Airport Code  Close Amount_x      total  Close Amount_y    amount\n",
       "0  2002          ATL         1022.00  471122.13             0.0   1022.00\n",
       "1  2003          ATL        19911.30  471122.13             0.0  19911.30\n",
       "2  2004          ATL        52128.54  471122.13             0.0  52128.54"
      ]
     },
     "execution_count": 62,
     "metadata": {},
     "output_type": "execute_result"
    }
   ],
   "source": [
    "plotting.head(n=3)"
   ]
  },
  {
   "cell_type": "code",
   "execution_count": 63,
   "metadata": {},
   "outputs": [
    {
     "data": {
      "text/plain": [
       "{'Categories': ['ATL',\n",
       "  'BOS',\n",
       "  'DFW',\n",
       "  'EWR',\n",
       "  'JFK',\n",
       "  'LAX',\n",
       "  'LGA',\n",
       "  'MCO',\n",
       "  'MIA',\n",
       "  'ORD',\n",
       "  'PHX',\n",
       "  'SEA'],\n",
       " '2002': [],\n",
       " '2003': [],\n",
       " '2004': [],\n",
       " '2005': [],\n",
       " '2006': [],\n",
       " '2007': [],\n",
       " '2008': [],\n",
       " '2009': [],\n",
       " '2010': [],\n",
       " '2011': [],\n",
       " '2012': [],\n",
       " '2013': [],\n",
       " '2014': [],\n",
       " '2015': []}"
      ]
     },
     "execution_count": 63,
     "metadata": {},
     "output_type": "execute_result"
    }
   ],
   "source": [
    "data"
   ]
  },
  {
   "cell_type": "code",
   "execution_count": 64,
   "metadata": {},
   "outputs": [
    {
     "name": "stdout",
     "output_type": "stream",
     "text": [
      "year                2040\n",
      "Airport Code         ATL\n",
      "Close Amount_x      8.48\n",
      "total             471122\n",
      "Close Amount_y       NaN\n",
      "amount               NaN\n",
      "Name: 14, dtype: object\n",
      "year                2500\n",
      "Airport Code         EWR\n",
      "Close Amount_x      35.7\n",
      "total             667754\n",
      "Close Amount_y       NaN\n",
      "amount               NaN\n",
      "Name: 57, dtype: object\n",
      "year                2020\n",
      "Airport Code         JFK\n",
      "Close Amount_x    179.08\n",
      "total             777054\n",
      "Close Amount_y       NaN\n",
      "amount               NaN\n",
      "Name: 72, dtype: object\n",
      "year                2094\n",
      "Airport Code         JFK\n",
      "Close Amount_x        50\n",
      "total             777054\n",
      "Close Amount_y       NaN\n",
      "amount               NaN\n",
      "Name: 73, dtype: object\n",
      "year                2025\n",
      "Airport Code         MCO\n",
      "Close Amount_x       100\n",
      "total             484125\n",
      "Close Amount_y       NaN\n",
      "amount               NaN\n",
      "Name: 116, dtype: object\n",
      "year                2207\n",
      "Airport Code         MIA\n",
      "Close Amount_x    162.99\n",
      "total             475041\n",
      "Close Amount_y       NaN\n",
      "amount               NaN\n",
      "Name: 131, dtype: object\n"
     ]
    }
   ],
   "source": [
    "for i, r in plotting.iterrows():\n",
    "    if r['year'] in STRING_YEARS:\n",
    "        data[r['year']].append(r['amount'])\n",
    "    else:\n",
    "        print(r)"
   ]
  },
  {
   "cell_type": "code",
   "execution_count": 65,
   "metadata": {},
   "outputs": [],
   "source": [
    "colors = d3['Category20c'][len(STRING_YEARS)]"
   ]
  },
  {
   "cell_type": "code",
   "execution_count": 66,
   "metadata": {},
   "outputs": [
    {
     "data": {
      "text/plain": [
       "['ATL',\n",
       " 'BOS',\n",
       " 'DFW',\n",
       " 'EWR',\n",
       " 'JFK',\n",
       " 'LAX',\n",
       " 'LGA',\n",
       " 'MCO',\n",
       " 'MIA',\n",
       " 'ORD',\n",
       " 'PHX',\n",
       " 'SEA']"
      ]
     },
     "execution_count": 66,
     "metadata": {},
     "output_type": "execute_result"
    }
   ],
   "source": [
    "airports"
   ]
  },
  {
   "cell_type": "code",
   "execution_count": 67,
   "metadata": {},
   "outputs": [
    {
     "data": {
      "text/plain": [
       "dict_keys(['Categories', '2002', '2003', '2004', '2005', '2006', '2007', '2008', '2009', '2010', '2011', '2012', '2013', '2014', '2015'])"
      ]
     },
     "execution_count": 67,
     "metadata": {},
     "output_type": "execute_result"
    }
   ],
   "source": [
    "data.keys()"
   ]
  },
  {
   "cell_type": "code",
   "execution_count": 68,
   "metadata": {},
   "outputs": [
    {
     "data": {
      "text/plain": [
       "['2002',\n",
       " '2003',\n",
       " '2004',\n",
       " '2005',\n",
       " '2006',\n",
       " '2007',\n",
       " '2008',\n",
       " '2009',\n",
       " '2010',\n",
       " '2011',\n",
       " '2012',\n",
       " '2013',\n",
       " '2014',\n",
       " '2015']"
      ]
     },
     "execution_count": 68,
     "metadata": {},
     "output_type": "execute_result"
    }
   ],
   "source": [
    "STRING_YEARS"
   ]
  },
  {
   "cell_type": "code",
   "execution_count": 69,
   "metadata": {},
   "outputs": [
    {
     "data": {
      "text/plain": [
       "True"
      ]
     },
     "execution_count": 69,
     "metadata": {},
     "output_type": "execute_result"
    }
   ],
   "source": [
    "len(colors) == len(STRING_YEARS)"
   ]
  },
  {
   "cell_type": "code",
   "execution_count": 70,
   "metadata": {},
   "outputs": [
    {
     "data": {
      "text/plain": [
       "True"
      ]
     },
     "execution_count": 70,
     "metadata": {},
     "output_type": "execute_result"
    }
   ],
   "source": [
    "airports == data['Categories']\n"
   ]
  },
  {
   "cell_type": "code",
   "execution_count": 71,
   "metadata": {},
   "outputs": [
    {
     "data": {
      "text/plain": [
       "True"
      ]
     },
     "execution_count": 71,
     "metadata": {},
     "output_type": "execute_result"
    }
   ],
   "source": [
    "len(STRING_YEARS) == len(data)-1"
   ]
  },
  {
   "cell_type": "code",
   "execution_count": 72,
   "metadata": {},
   "outputs": [],
   "source": [
    "from bokeh.models import NumeralTickFormatter\n",
    "p = figure(y_range=airports, x_range=[0, 1000000],\n",
    "           plot_height=800,\n",
    "           title=\"Approved or settled claims by airport, by year\",\n",
    "           toolbar_location=None)\n",
    "\n",
    "p.hbar_stack(STRING_YEARS, y='Categories',\n",
    "             height=0.9,\n",
    "             color=colors,\n",
    "             source=ColumnDataSource(data),\n",
    "             legend=[\"%s \" % yr for yr in STRING_YEARS])\n",
    "\n",
    "p.y_range.range_padding = 0.1\n",
    "p.ygrid.grid_line_color = None\n",
    "p.legend.location = \"top_right\"\n",
    "p.axis.minor_tick_line_color = None\n",
    "p.outline_line_color = None\n",
    "p.xaxis.formatter=NumeralTickFormatter(format=\"0.0a\")\n",
    "\n",
    "bottom = p"
   ]
  },
  {
   "cell_type": "code",
   "execution_count": 73,
   "metadata": {},
   "outputs": [],
   "source": [
    "from bokeh.io import output_file, show\n",
    "from bokeh.layouts import column\n",
    "from bokeh.plotting import figure"
   ]
  },
  {
   "cell_type": "code",
   "execution_count": 74,
   "metadata": {},
   "outputs": [],
   "source": [
    "output_file(\"layout_tsa.html\")"
   ]
  },
  {
   "cell_type": "code",
   "execution_count": 75,
   "metadata": {},
   "outputs": [],
   "source": [
    "show(column(top, bottom))"
   ]
  },
  {
   "cell_type": "code",
   "execution_count": null,
   "metadata": {},
   "outputs": [],
   "source": [
    "# Thanks for reading, visit www.machineloveus.com for more data science content."
   ]
  }
 ],
 "metadata": {
  "kernelspec": {
   "display_name": "Python 3",
   "language": "python",
   "name": "python3"
  },
  "language_info": {
   "codemirror_mode": {
    "name": "ipython",
    "version": 3
   },
   "file_extension": ".py",
   "mimetype": "text/x-python",
   "name": "python",
   "nbconvert_exporter": "python",
   "pygments_lexer": "ipython3",
   "version": "3.7.0"
  }
 },
 "nbformat": 4,
 "nbformat_minor": 2
}
