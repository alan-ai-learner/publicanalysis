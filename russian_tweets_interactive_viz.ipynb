{
 "cells": [
  {
   "cell_type": "markdown",
   "metadata": {},
   "source": [
    "# 3M Russian tweets\n",
    "This notebook uses bokeh to generate an interactive visualization exploring a dataset of 3M tweets.\n",
    "\n",
    "Some notes on the dataset from the source article:\n",
    "<em>\"The data set published here includes 2,973,371 tweets from 2,848 Twitter handles. It includes every tweet’s author, text and date; the author’s follower count and the number of accounts the author followed; and an indication of whether the tweet was a retweet. The entire corpus of tweets published here dates from February 2012 to May 2018, with the vast majority from 2015 to 2017.\"</em>\n",
    "\n",
    "1. Source article when tweets were released: https://fivethirtyeight.com/features/why-were-sharing-3-million-russian-troll-tweets/\n",
    "2. Followup article citing other items completed with data: https://fivethirtyeight.com/features/what-you-found-in-3-million-russian-troll-tweets/\n",
    "\n",
    "## Important\n",
    "You need to have downloaded the Tweet CSVs located in the following repository to rerun this notebook:\n",
    "https://github.com/fivethirtyeight/russian-troll-tweets"
   ]
  },
  {
   "cell_type": "code",
   "execution_count": 47,
   "metadata": {},
   "outputs": [],
   "source": [
    "import datetime as dt\n",
    "import numpy as np\n",
    "import pandas as pd\n",
    "import bokeh"
   ]
  },
  {
   "cell_type": "code",
   "execution_count": 48,
   "metadata": {},
   "outputs": [],
   "source": [
    "#Note: You need to have the downloaded csvs here"
   ]
  },
  {
   "cell_type": "markdown",
   "metadata": {},
   "source": [
    "### Exploratory analysis and data prep"
   ]
  },
  {
   "cell_type": "code",
   "execution_count": 49,
   "metadata": {
    "scrolled": true
   },
   "outputs": [
    {
     "name": "stderr",
     "output_type": "stream",
     "text": [
      "/Users/cenchen/repos/machineloveus/machine/lib/python2.7/site-packages/ipykernel_launcher.py:3: FutureWarning: from_csv is deprecated. Please use read_csv(...) instead. Note that some of the default arguments are different, so please refer to the documentation for from_csv when changing your function calls\n",
      "  This is separate from the ipykernel package so we can avoid doing imports until\n"
     ]
    }
   ],
   "source": [
    "frames = []\n",
    "for x in range(1,10):\n",
    "    df = pd.DataFrame.from_csv('IRAhandle_tweets_' + str(x) + '.csv', index_col=None)\n",
    "    df = df[df['account_category'] == 'Fearmonger']\n",
    "    frames.append(df)"
   ]
  },
  {
   "cell_type": "code",
   "execution_count": 50,
   "metadata": {},
   "outputs": [],
   "source": [
    "df = pd.concat(frames)"
   ]
  },
  {
   "cell_type": "code",
   "execution_count": 51,
   "metadata": {},
   "outputs": [
    {
     "data": {
      "text/html": [
       "<div>\n",
       "<style scoped>\n",
       "    .dataframe tbody tr th:only-of-type {\n",
       "        vertical-align: middle;\n",
       "    }\n",
       "\n",
       "    .dataframe tbody tr th {\n",
       "        vertical-align: top;\n",
       "    }\n",
       "\n",
       "    .dataframe thead th {\n",
       "        text-align: right;\n",
       "    }\n",
       "</style>\n",
       "<table border=\"1\" class=\"dataframe\">\n",
       "  <thead>\n",
       "    <tr style=\"text-align: right;\">\n",
       "      <th></th>\n",
       "      <th>external_author_id</th>\n",
       "      <th>author</th>\n",
       "      <th>content</th>\n",
       "      <th>region</th>\n",
       "      <th>language</th>\n",
       "      <th>publish_date</th>\n",
       "      <th>harvested_date</th>\n",
       "      <th>following</th>\n",
       "      <th>followers</th>\n",
       "      <th>updates</th>\n",
       "      <th>post_type</th>\n",
       "      <th>account_type</th>\n",
       "      <th>new_june_2018</th>\n",
       "      <th>retweet</th>\n",
       "      <th>account_category</th>\n",
       "    </tr>\n",
       "  </thead>\n",
       "  <tbody>\n",
       "    <tr>\n",
       "      <th>425</th>\n",
       "      <td>2.535565e+09</td>\n",
       "      <td>1D_NICOLE_</td>\n",
       "      <td>#FoodPoisoning is not a joke! #Walmart #KochFa...</td>\n",
       "      <td>United States</td>\n",
       "      <td>English</td>\n",
       "      <td>11/26/2015 22:20</td>\n",
       "      <td>11/26/2015 22:20</td>\n",
       "      <td>48</td>\n",
       "      <td>40</td>\n",
       "      <td>394</td>\n",
       "      <td>RETWEET</td>\n",
       "      <td>Koch</td>\n",
       "      <td>0</td>\n",
       "      <td>1</td>\n",
       "      <td>Fearmonger</td>\n",
       "    </tr>\n",
       "    <tr>\n",
       "      <th>426</th>\n",
       "      <td>2.535565e+09</td>\n",
       "      <td>1D_NICOLE_</td>\n",
       "      <td>Thanks God that #turkey i ate few days ago was...</td>\n",
       "      <td>United States</td>\n",
       "      <td>English</td>\n",
       "      <td>11/26/2015 22:35</td>\n",
       "      <td>11/26/2015 22:35</td>\n",
       "      <td>48</td>\n",
       "      <td>40</td>\n",
       "      <td>395</td>\n",
       "      <td>RETWEET</td>\n",
       "      <td>Koch</td>\n",
       "      <td>0</td>\n",
       "      <td>1</td>\n",
       "      <td>Fearmonger</td>\n",
       "    </tr>\n",
       "    <tr>\n",
       "      <th>427</th>\n",
       "      <td>2.535565e+09</td>\n",
       "      <td>1D_NICOLE_</td>\n",
       "      <td>Kim and kanye wedding http://t.co/6YdR6QlR6p</td>\n",
       "      <td>United States</td>\n",
       "      <td>Tagalog (Filipino)</td>\n",
       "      <td>5/25/2015 12:38</td>\n",
       "      <td>5/25/2015 12:38</td>\n",
       "      <td>59</td>\n",
       "      <td>51</td>\n",
       "      <td>353</td>\n",
       "      <td>NaN</td>\n",
       "      <td>Koch</td>\n",
       "      <td>0</td>\n",
       "      <td>0</td>\n",
       "      <td>Fearmonger</td>\n",
       "    </tr>\n",
       "  </tbody>\n",
       "</table>\n",
       "</div>"
      ],
      "text/plain": [
       "     external_author_id      author  \\\n",
       "425        2.535565e+09  1D_NICOLE_   \n",
       "426        2.535565e+09  1D_NICOLE_   \n",
       "427        2.535565e+09  1D_NICOLE_   \n",
       "\n",
       "                                               content         region  \\\n",
       "425  #FoodPoisoning is not a joke! #Walmart #KochFa...  United States   \n",
       "426  Thanks God that #turkey i ate few days ago was...  United States   \n",
       "427       Kim and kanye wedding http://t.co/6YdR6QlR6p  United States   \n",
       "\n",
       "               language      publish_date    harvested_date  following  \\\n",
       "425             English  11/26/2015 22:20  11/26/2015 22:20         48   \n",
       "426             English  11/26/2015 22:35  11/26/2015 22:35         48   \n",
       "427  Tagalog (Filipino)   5/25/2015 12:38   5/25/2015 12:38         59   \n",
       "\n",
       "     followers  updates post_type account_type  new_june_2018  retweet  \\\n",
       "425         40      394   RETWEET         Koch              0        1   \n",
       "426         40      395   RETWEET         Koch              0        1   \n",
       "427         51      353       NaN         Koch              0        0   \n",
       "\n",
       "    account_category  \n",
       "425       Fearmonger  \n",
       "426       Fearmonger  \n",
       "427       Fearmonger  "
      ]
     },
     "execution_count": 51,
     "metadata": {},
     "output_type": "execute_result"
    }
   ],
   "source": [
    "df.head(n=3)"
   ]
  },
  {
   "cell_type": "code",
   "execution_count": 52,
   "metadata": {},
   "outputs": [
    {
     "data": {
      "text/plain": [
       "(11140, 15)"
      ]
     },
     "execution_count": 52,
     "metadata": {},
     "output_type": "execute_result"
    }
   ],
   "source": [
    "df.shape"
   ]
  },
  {
   "cell_type": "code",
   "execution_count": 53,
   "metadata": {},
   "outputs": [
    {
     "data": {
      "text/plain": [
       "124"
      ]
     },
     "execution_count": 53,
     "metadata": {},
     "output_type": "execute_result"
    }
   ],
   "source": [
    "len(df.author.unique())"
   ]
  },
  {
   "cell_type": "code",
   "execution_count": 54,
   "metadata": {},
   "outputs": [],
   "source": [
    "df['publish_day'] = pd.to_datetime(df['publish_date'], format='%m/%d/%Y %H:%M')\n",
    "df['_date'] = df['publish_day'].dt.strftime('%m/%d/%Y')\n",
    "df['date'] = pd.to_datetime(df['_date'], format='%m/%d/%Y')"
   ]
  },
  {
   "cell_type": "code",
   "execution_count": 55,
   "metadata": {},
   "outputs": [],
   "source": [
    "authors = []\n",
    "for a in df.author.unique():\n",
    "    authors.append(a)"
   ]
  },
  {
   "cell_type": "code",
   "execution_count": 56,
   "metadata": {},
   "outputs": [],
   "source": [
    "cols = ['author', 'date', 'content', 'followers']\n",
    "df = df[cols]"
   ]
  },
  {
   "cell_type": "code",
   "execution_count": 57,
   "metadata": {
    "scrolled": true
   },
   "outputs": [
    {
     "data": {
      "text/html": [
       "<div>\n",
       "<style scoped>\n",
       "    .dataframe tbody tr th:only-of-type {\n",
       "        vertical-align: middle;\n",
       "    }\n",
       "\n",
       "    .dataframe tbody tr th {\n",
       "        vertical-align: top;\n",
       "    }\n",
       "\n",
       "    .dataframe thead th {\n",
       "        text-align: right;\n",
       "    }\n",
       "</style>\n",
       "<table border=\"1\" class=\"dataframe\">\n",
       "  <thead>\n",
       "    <tr style=\"text-align: right;\">\n",
       "      <th></th>\n",
       "      <th>author</th>\n",
       "      <th>date</th>\n",
       "      <th>content</th>\n",
       "      <th>followers</th>\n",
       "    </tr>\n",
       "  </thead>\n",
       "  <tbody>\n",
       "    <tr>\n",
       "      <th>425</th>\n",
       "      <td>1D_NICOLE_</td>\n",
       "      <td>2015-11-26</td>\n",
       "      <td>#FoodPoisoning is not a joke! #Walmart #KochFa...</td>\n",
       "      <td>40</td>\n",
       "    </tr>\n",
       "    <tr>\n",
       "      <th>426</th>\n",
       "      <td>1D_NICOLE_</td>\n",
       "      <td>2015-11-26</td>\n",
       "      <td>Thanks God that #turkey i ate few days ago was...</td>\n",
       "      <td>40</td>\n",
       "    </tr>\n",
       "    <tr>\n",
       "      <th>427</th>\n",
       "      <td>1D_NICOLE_</td>\n",
       "      <td>2015-05-25</td>\n",
       "      <td>Kim and kanye wedding http://t.co/6YdR6QlR6p</td>\n",
       "      <td>51</td>\n",
       "    </tr>\n",
       "  </tbody>\n",
       "</table>\n",
       "</div>"
      ],
      "text/plain": [
       "         author       date                                            content  \\\n",
       "425  1D_NICOLE_ 2015-11-26  #FoodPoisoning is not a joke! #Walmart #KochFa...   \n",
       "426  1D_NICOLE_ 2015-11-26  Thanks God that #turkey i ate few days ago was...   \n",
       "427  1D_NICOLE_ 2015-05-25       Kim and kanye wedding http://t.co/6YdR6QlR6p   \n",
       "\n",
       "     followers  \n",
       "425         40  \n",
       "426         40  \n",
       "427         51  "
      ]
     },
     "execution_count": 57,
     "metadata": {},
     "output_type": "execute_result"
    }
   ],
   "source": [
    "df.head(n=3)"
   ]
  },
  {
   "cell_type": "code",
   "execution_count": 58,
   "metadata": {},
   "outputs": [
    {
     "data": {
      "text/html": [
       "<div>\n",
       "<style scoped>\n",
       "    .dataframe tbody tr th:only-of-type {\n",
       "        vertical-align: middle;\n",
       "    }\n",
       "\n",
       "    .dataframe tbody tr th {\n",
       "        vertical-align: top;\n",
       "    }\n",
       "\n",
       "    .dataframe thead th {\n",
       "        text-align: right;\n",
       "    }\n",
       "</style>\n",
       "<table border=\"1\" class=\"dataframe\">\n",
       "  <thead>\n",
       "    <tr style=\"text-align: right;\">\n",
       "      <th></th>\n",
       "      <th>date</th>\n",
       "      <th>author</th>\n",
       "      <th>tweet_count</th>\n",
       "    </tr>\n",
       "  </thead>\n",
       "  <tbody>\n",
       "    <tr>\n",
       "      <th>0</th>\n",
       "      <td>2014-12-10</td>\n",
       "      <td>GWEN_GARLAND</td>\n",
       "      <td>9</td>\n",
       "    </tr>\n",
       "    <tr>\n",
       "      <th>1</th>\n",
       "      <td>2014-12-10</td>\n",
       "      <td>RYANNCOOPERWOOD</td>\n",
       "      <td>1</td>\n",
       "    </tr>\n",
       "    <tr>\n",
       "      <th>2</th>\n",
       "      <td>2014-12-11</td>\n",
       "      <td>GWEN_GARLAND</td>\n",
       "      <td>6</td>\n",
       "    </tr>\n",
       "    <tr>\n",
       "      <th>3</th>\n",
       "      <td>2014-12-12</td>\n",
       "      <td>GWEN_GARLAND</td>\n",
       "      <td>33</td>\n",
       "    </tr>\n",
       "    <tr>\n",
       "      <th>4</th>\n",
       "      <td>2014-12-13</td>\n",
       "      <td>GWEN_GARLAND</td>\n",
       "      <td>21</td>\n",
       "    </tr>\n",
       "  </tbody>\n",
       "</table>\n",
       "</div>"
      ],
      "text/plain": [
       "        date           author  tweet_count\n",
       "0 2014-12-10     GWEN_GARLAND            9\n",
       "1 2014-12-10  RYANNCOOPERWOOD            1\n",
       "2 2014-12-11     GWEN_GARLAND            6\n",
       "3 2014-12-12     GWEN_GARLAND           33\n",
       "4 2014-12-13     GWEN_GARLAND           21"
      ]
     },
     "execution_count": 58,
     "metadata": {},
     "output_type": "execute_result"
    }
   ],
   "source": [
    "grp = df.groupby(['date', 'author'], as_index=False).agg({'followers': 'count'})\n",
    "grp['tweet_count'] = grp['followers']\n",
    "del grp['followers']\n",
    "grp.head()"
   ]
  },
  {
   "cell_type": "code",
   "execution_count": 59,
   "metadata": {},
   "outputs": [],
   "source": [
    "df = df.merge(grp, on=['date', 'author'])\n",
    "df['followers_log'] = np.log(df['followers']+1)"
   ]
  },
  {
   "cell_type": "code",
   "execution_count": 60,
   "metadata": {},
   "outputs": [],
   "source": [
    "df['tweets_times_followers'] = df['followers'] * df['tweet_count']"
   ]
  },
  {
   "cell_type": "code",
   "execution_count": 61,
   "metadata": {},
   "outputs": [],
   "source": [
    "dct = df.to_dict()"
   ]
  },
  {
   "cell_type": "code",
   "execution_count": 62,
   "metadata": {},
   "outputs": [],
   "source": [
    "df = df.drop_duplicates(['date', 'author'])"
   ]
  },
  {
   "cell_type": "code",
   "execution_count": 63,
   "metadata": {},
   "outputs": [
    {
     "data": {
      "text/plain": [
       "(801, 7)"
      ]
     },
     "execution_count": 63,
     "metadata": {},
     "output_type": "execute_result"
    }
   ],
   "source": [
    "df.shape"
   ]
  },
  {
   "cell_type": "markdown",
   "metadata": {},
   "source": [
    "### Bokeh interactive visualization"
   ]
  },
  {
   "cell_type": "code",
   "execution_count": 67,
   "metadata": {},
   "outputs": [],
   "source": [
    "from bokeh.io import show, output_file\n",
    "from bokeh.models import ColumnDataSource\n",
    "from bokeh.palettes import Spectral6\n",
    "from bokeh.plotting import figure\n",
    "from bokeh.transform import factor_cmap\n",
    "from bokeh.io import output_file, show\n",
    "from bokeh.layouts import gridplot, row, column\n",
    "from bokeh.models import ColumnDataSource\n",
    "from bokeh.plotting import figure\n",
    "from bokeh.models import HoverTool\n",
    "from bokeh.models import CustomJS\n",
    "output_file(\"bar_colormapped.html\")\n",
    "\n",
    "HEIGHT = 400\n",
    "WIDTH = 600\n",
    "\n",
    "source = ColumnDataSource(df)\n",
    "\n",
    "TOOLS = 'crosshair,lasso_select'\n",
    "left = figure(plot_height=HEIGHT, plot_width=WIDTH, \n",
    "              tools=TOOLS, title=\"Select tweets here:\", x_axis_type=\"datetime\")\n",
    "left.circle(x='date', y='tweets_times_followers', fill_color='#02A695', alpha=.5,\n",
    "            size=8, source=source,\n",
    "            line_color='grey') \n",
    "custom_hove = HoverTool(point_policy='follow_mouse')\n",
    "TOOLTIPS1 = \"\"\"\n",
    "    <div>\n",
    "        <div>\n",
    "            <span style=\"font-size: 14px; font-weight: bold;\">@author</span>\n",
    "        </div>\n",
    "        <div>\n",
    "            <span style=\"font-size: 10px; color: #1B919E;\">Tweets today: @tweet_count</span>\n",
    "            <br>\n",
    "            <span style=\"font-size: 10px; color: #1B919E;\">Followers today: @followers</span>\n",
    "        </div>\n",
    "    </div>\n",
    "\"\"\"\n",
    "custom_hove.tooltips = TOOLTIPS1\n",
    "left.add_tools(custom_hove)\n",
    "\n",
    "s2 = ColumnDataSource(data=dict(date=[], author=[], content=[]))\n",
    "right = figure(plot_width=WIDTH, plot_height=HEIGHT, \n",
    "               title=\"Hover to read each tweet (y-axis is tweet author)\",\n",
    "               y_range=authors,\n",
    "               tools='crosshair',\n",
    "               x_axis_type=\"datetime\")\n",
    "right.circle(x='date', y='author', fill_color='#A60D71', size=15,\n",
    "             alpha=.7,\n",
    "             line_color='white',\n",
    "             source=s2)\n",
    "\n",
    "\n",
    "source.callback = CustomJS(args=dict(s2=s2), code=\"\"\"\n",
    "        var inds = cb_obj.selected.indices;\n",
    "        var d1 = cb_obj.data;\n",
    "        var d2 = s2.data;\n",
    "        d2['date'] = []\n",
    "        d2['author'] = []\n",
    "        d2['content'] = []\n",
    "        for (var i = 0; i < inds.length; i++) {\n",
    "            d2['date'].push(d1['date'][inds[i]])\n",
    "            d2['author'].push(d1['author'][inds[i]])\n",
    "            d2['content'].push(d1['content'][inds[i]])\n",
    "        }\n",
    "        s2.change.emit();\n",
    "    \"\"\")\n",
    "\n",
    "\n",
    "custom_hove_2 = HoverTool()\n",
    "\n",
    "TOOLTIPS2 = \"\"\"\n",
    "    <div>\n",
    "        <div>\n",
    "            <img\n",
    "                src=\"http://www.lter-europe.net/document-archive/image-gallery/albums/logos/TwitterLogo_55acee.png\"\n",
    "                height=\"20\" alt=\"Tweet\" width=\"20\"\n",
    "                style=\"float: left; margin: 0px 5px 5px 0px;\"\n",
    "                border=\"0\"\n",
    "            ></img>\n",
    "        </div>\n",
    "        <div>\n",
    "            <span style=\"font-size: 14px; font-weight: bold;\">@author</span>\n",
    "        </div>\n",
    "        <div>\n",
    "            <span style=\"max-width:50px, margin:auto, font-size: 12px; color: #1B919E;\">@content</span>\n",
    "        </div>\n",
    "    </div>\n",
    "\"\"\"\n",
    "custom_hove_2.tooltips = TOOLTIPS2\n",
    "\n",
    "right.add_tools(custom_hove_2)\n",
    "\n",
    "left.xaxis.axis_label = \"Date\"\n",
    "left.yaxis.axis_label = \"Influence (tweets * followers)\"\n",
    "right.yaxis.axis_label= \"Tweet author\"\n",
    "right.yaxis.visible=False\n",
    "\n",
    "p = column([left,right])\n",
    "p.sizing_mode=\"scale_width\"\n"
   ]
  },
  {
   "cell_type": "code",
   "execution_count": 68,
   "metadata": {},
   "outputs": [],
   "source": [
    "show(p)"
   ]
  },
  {
   "cell_type": "code",
   "execution_count": null,
   "metadata": {},
   "outputs": [],
   "source": []
  }
 ],
 "metadata": {
  "kernelspec": {
   "display_name": "Python 2",
   "language": "python",
   "name": "python2"
  },
  "language_info": {
   "codemirror_mode": {
    "name": "ipython",
    "version": 2
   },
   "file_extension": ".py",
   "mimetype": "text/x-python",
   "name": "python",
   "nbconvert_exporter": "python",
   "pygments_lexer": "ipython2",
   "version": "2.7.10"
  }
 },
 "nbformat": 4,
 "nbformat_minor": 2
}
