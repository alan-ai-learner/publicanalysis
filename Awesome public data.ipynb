{
 "cells": [
  {
   "cell_type": "markdown",
   "metadata": {},
   "source": [
    "# Awesome public data analysis\n",
    "Source: https://en.wikipedia.org/wiki/List_of_school_shootings_in_the_United_States"
   ]
  },
  {
   "cell_type": "code",
   "execution_count": 2,
   "metadata": {},
   "outputs": [],
   "source": [
    "import wikipedia\n",
    "from bs4 import BeautifulSoup\n",
    "import pandas as pd\n",
    "from geopy.geocoders import Nominatim"
   ]
  },
  {
   "cell_type": "code",
   "execution_count": 4,
   "metadata": {},
   "outputs": [],
   "source": [
    "page = wikipedia.page(\"List_of_school_shootings_in_the_United_States\")"
   ]
  },
  {
   "cell_type": "code",
   "execution_count": 5,
   "metadata": {},
   "outputs": [],
   "source": [
    "html = page.html().encode(\"UTF-8\")"
   ]
  },
  {
   "cell_type": "code",
   "execution_count": 6,
   "metadata": {},
   "outputs": [
    {
     "name": "stdout",
     "output_type": "stream",
     "text": [
      "<div class=\"mw-parser-output\"><p>\n",
      "</p>\n",
      "<div role=\"note\" class=\"hatnote navigation-not-searchable plainlinks\">This list is <a href=\"/wiki/Wikipedia:WikiProject_Lists#Incomplete_lists\" title=\"Wikipedia:WikiProject Lists\">incomplete</a>; you can help by <a class=\"external text\" href=\"//en.wikipedia.org/w/index.php?title=List_of_school_shootings_in_the_United_States&amp;action=edit\">expanding it</a>.</div>\n",
      "<div role=\"note\" class=\"hatnote navigation-not-searchable\">For a broader coverage related to  this topic, see <a href=\"/wiki/Gun_violence_in_the_United_States\" title=\"Gun violence in the United States\">Gun violence in the United States</a>.</div>\n",
      "<p>\n",
      "\n",
      "</p><p><b>List of school shootings in the United States</b> lists in chronology and provides additional details of incidents in which a firearm was discharged at a school infrastructure or campus, including incidents of shootings on a <a href=\"/wiki/School_bus\" title=\"School bus\">school bus</a>. This list contains <a href=\"/wiki/School_shoo\n"
     ]
    }
   ],
   "source": [
    "print html[:1000]"
   ]
  },
  {
   "cell_type": "code",
   "execution_count": 7,
   "metadata": {},
   "outputs": [],
   "source": [
    "soup = BeautifulSoup(html, 'html.parser')"
   ]
  },
  {
   "cell_type": "code",
   "execution_count": 10,
   "metadata": {},
   "outputs": [],
   "source": [
    "table = soup.find_all('table')[19]"
   ]
  },
  {
   "cell_type": "code",
   "execution_count": 16,
   "metadata": {},
   "outputs": [],
   "source": [
    "for span in table.select(\"span.sortkey\"):\n",
    "    span.decompose()"
   ]
  },
  {
   "cell_type": "code",
   "execution_count": 17,
   "metadata": {},
   "outputs": [],
   "source": [
    "df = pd.read_html(str(table), header=0)[0]"
   ]
  },
  {
   "cell_type": "code",
   "execution_count": 19,
   "metadata": {},
   "outputs": [
    {
     "data": {
      "text/html": [
       "<div>\n",
       "<style scoped>\n",
       "    .dataframe tbody tr th:only-of-type {\n",
       "        vertical-align: middle;\n",
       "    }\n",
       "\n",
       "    .dataframe tbody tr th {\n",
       "        vertical-align: top;\n",
       "    }\n",
       "\n",
       "    .dataframe thead th {\n",
       "        text-align: right;\n",
       "    }\n",
       "</style>\n",
       "<table border=\"1\" class=\"dataframe\">\n",
       "  <thead>\n",
       "    <tr style=\"text-align: right;\">\n",
       "      <th></th>\n",
       "      <th>Date</th>\n",
       "      <th>Location</th>\n",
       "      <th>Deaths</th>\n",
       "      <th>Injuries</th>\n",
       "      <th>Description</th>\n",
       "    </tr>\n",
       "  </thead>\n",
       "  <tbody>\n",
       "    <tr>\n",
       "      <th>0</th>\n",
       "      <td>January 15, 2015</td>\n",
       "      <td>Milwaukee, Wisconsin</td>\n",
       "      <td>0</td>\n",
       "      <td>3</td>\n",
       "      <td>A 15-year-old boy, a student's father, and a t...</td>\n",
       "    </tr>\n",
       "    <tr>\n",
       "      <th>1</th>\n",
       "      <td>January 16, 2015</td>\n",
       "      <td>Ocala, Florida</td>\n",
       "      <td>0</td>\n",
       "      <td>2</td>\n",
       "      <td>Two were injured in gunfire that occurred afte...</td>\n",
       "    </tr>\n",
       "    <tr>\n",
       "      <th>2</th>\n",
       "      <td>February 4, 2015</td>\n",
       "      <td>Frederick, Maryland</td>\n",
       "      <td>0</td>\n",
       "      <td>2</td>\n",
       "      <td>Two students were shot near the gymnasium of F...</td>\n",
       "    </tr>\n",
       "  </tbody>\n",
       "</table>\n",
       "</div>"
      ],
      "text/plain": [
       "               Date              Location  Deaths  Injuries  \\\n",
       "0  January 15, 2015  Milwaukee, Wisconsin       0         3   \n",
       "1  January 16, 2015        Ocala, Florida       0         2   \n",
       "2  February 4, 2015   Frederick, Maryland       0         2   \n",
       "\n",
       "                                         Description  \n",
       "0  A 15-year-old boy, a student's father, and a t...  \n",
       "1  Two were injured in gunfire that occurred afte...  \n",
       "2  Two students were shot near the gymnasium of F...  "
      ]
     },
     "execution_count": 19,
     "metadata": {},
     "output_type": "execute_result"
    }
   ],
   "source": [
    "df.head(n=3)"
   ]
  },
  {
   "cell_type": "code",
   "execution_count": 20,
   "metadata": {},
   "outputs": [
    {
     "data": {
      "text/html": [
       "<div>\n",
       "<style scoped>\n",
       "    .dataframe tbody tr th:only-of-type {\n",
       "        vertical-align: middle;\n",
       "    }\n",
       "\n",
       "    .dataframe tbody tr th {\n",
       "        vertical-align: top;\n",
       "    }\n",
       "\n",
       "    .dataframe thead th {\n",
       "        text-align: right;\n",
       "    }\n",
       "</style>\n",
       "<table border=\"1\" class=\"dataframe\">\n",
       "  <thead>\n",
       "    <tr style=\"text-align: right;\">\n",
       "      <th></th>\n",
       "      <th>Deaths</th>\n",
       "      <th>Injuries</th>\n",
       "    </tr>\n",
       "  </thead>\n",
       "  <tbody>\n",
       "    <tr>\n",
       "      <th>count</th>\n",
       "      <td>57.000000</td>\n",
       "      <td>57.000000</td>\n",
       "    </tr>\n",
       "    <tr>\n",
       "      <th>mean</th>\n",
       "      <td>1.263158</td>\n",
       "      <td>2.403509</td>\n",
       "    </tr>\n",
       "    <tr>\n",
       "      <th>std</th>\n",
       "      <td>2.682791</td>\n",
       "      <td>3.839920</td>\n",
       "    </tr>\n",
       "    <tr>\n",
       "      <th>min</th>\n",
       "      <td>0.000000</td>\n",
       "      <td>0.000000</td>\n",
       "    </tr>\n",
       "    <tr>\n",
       "      <th>25%</th>\n",
       "      <td>0.000000</td>\n",
       "      <td>0.000000</td>\n",
       "    </tr>\n",
       "    <tr>\n",
       "      <th>50%</th>\n",
       "      <td>1.000000</td>\n",
       "      <td>1.000000</td>\n",
       "    </tr>\n",
       "    <tr>\n",
       "      <th>75%</th>\n",
       "      <td>1.000000</td>\n",
       "      <td>3.000000</td>\n",
       "    </tr>\n",
       "    <tr>\n",
       "      <th>max</th>\n",
       "      <td>17.000000</td>\n",
       "      <td>18.000000</td>\n",
       "    </tr>\n",
       "  </tbody>\n",
       "</table>\n",
       "</div>"
      ],
      "text/plain": [
       "          Deaths   Injuries\n",
       "count  57.000000  57.000000\n",
       "mean    1.263158   2.403509\n",
       "std     2.682791   3.839920\n",
       "min     0.000000   0.000000\n",
       "25%     0.000000   0.000000\n",
       "50%     1.000000   1.000000\n",
       "75%     1.000000   3.000000\n",
       "max    17.000000  18.000000"
      ]
     },
     "execution_count": 20,
     "metadata": {},
     "output_type": "execute_result"
    }
   ],
   "source": [
    "df.describe()"
   ]
  },
  {
   "cell_type": "code",
   "execution_count": 21,
   "metadata": {},
   "outputs": [],
   "source": [
    "import nltk"
   ]
  },
  {
   "cell_type": "code",
   "execution_count": 22,
   "metadata": {},
   "outputs": [],
   "source": [
    "df['tokenized'] = df['Description'].apply(nltk.word_tokenize)"
   ]
  },
  {
   "cell_type": "code",
   "execution_count": 23,
   "metadata": {},
   "outputs": [
    {
     "data": {
      "text/html": [
       "<div>\n",
       "<style scoped>\n",
       "    .dataframe tbody tr th:only-of-type {\n",
       "        vertical-align: middle;\n",
       "    }\n",
       "\n",
       "    .dataframe tbody tr th {\n",
       "        vertical-align: top;\n",
       "    }\n",
       "\n",
       "    .dataframe thead th {\n",
       "        text-align: right;\n",
       "    }\n",
       "</style>\n",
       "<table border=\"1\" class=\"dataframe\">\n",
       "  <thead>\n",
       "    <tr style=\"text-align: right;\">\n",
       "      <th></th>\n",
       "      <th>Date</th>\n",
       "      <th>Location</th>\n",
       "      <th>Deaths</th>\n",
       "      <th>Injuries</th>\n",
       "      <th>Description</th>\n",
       "      <th>tokenized</th>\n",
       "    </tr>\n",
       "  </thead>\n",
       "  <tbody>\n",
       "    <tr>\n",
       "      <th>0</th>\n",
       "      <td>January 15, 2015</td>\n",
       "      <td>Milwaukee, Wisconsin</td>\n",
       "      <td>0</td>\n",
       "      <td>3</td>\n",
       "      <td>A 15-year-old boy, a student's father, and a t...</td>\n",
       "      <td>[A, 15-year-old, boy, ,, a, student, 's, fathe...</td>\n",
       "    </tr>\n",
       "    <tr>\n",
       "      <th>1</th>\n",
       "      <td>January 16, 2015</td>\n",
       "      <td>Ocala, Florida</td>\n",
       "      <td>0</td>\n",
       "      <td>2</td>\n",
       "      <td>Two were injured in gunfire that occurred afte...</td>\n",
       "      <td>[Two, were, injured, in, gunfire, that, occurr...</td>\n",
       "    </tr>\n",
       "    <tr>\n",
       "      <th>2</th>\n",
       "      <td>February 4, 2015</td>\n",
       "      <td>Frederick, Maryland</td>\n",
       "      <td>0</td>\n",
       "      <td>2</td>\n",
       "      <td>Two students were shot near the gymnasium of F...</td>\n",
       "      <td>[Two, students, were, shot, near, the, gymnasi...</td>\n",
       "    </tr>\n",
       "  </tbody>\n",
       "</table>\n",
       "</div>"
      ],
      "text/plain": [
       "               Date              Location  Deaths  Injuries  \\\n",
       "0  January 15, 2015  Milwaukee, Wisconsin       0         3   \n",
       "1  January 16, 2015        Ocala, Florida       0         2   \n",
       "2  February 4, 2015   Frederick, Maryland       0         2   \n",
       "\n",
       "                                         Description  \\\n",
       "0  A 15-year-old boy, a student's father, and a t...   \n",
       "1  Two were injured in gunfire that occurred afte...   \n",
       "2  Two students were shot near the gymnasium of F...   \n",
       "\n",
       "                                           tokenized  \n",
       "0  [A, 15-year-old, boy, ,, a, student, 's, fathe...  \n",
       "1  [Two, were, injured, in, gunfire, that, occurr...  \n",
       "2  [Two, students, were, shot, near, the, gymnasi...  "
      ]
     },
     "execution_count": 23,
     "metadata": {},
     "output_type": "execute_result"
    }
   ],
   "source": [
    "df.head(n=3)"
   ]
  },
  {
   "cell_type": "code",
   "execution_count": 28,
   "metadata": {},
   "outputs": [],
   "source": [
    "def return_coordinates(local):\n",
    "    location = geolocator.geocode(local)\n",
    "    return pd.Series({'latitude': location.latitude, \"longitude\": location.longitude})"
   ]
  },
  {
   "cell_type": "code",
   "execution_count": 29,
   "metadata": {},
   "outputs": [],
   "source": [
    "geolocator = Nominatim()"
   ]
  },
  {
   "cell_type": "code",
   "execution_count": 33,
   "metadata": {},
   "outputs": [
    {
     "name": "stdout",
     "output_type": "stream",
     "text": [
      "latitude     40.730646\n",
      "longitude   -73.986614\n",
      "dtype: float64\n"
     ]
    }
   ],
   "source": [
    "print return_coordinates(\"New York City, New York\")"
   ]
  },
  {
   "cell_type": "code",
   "execution_count": 34,
   "metadata": {},
   "outputs": [
    {
     "name": "stdout",
     "output_type": "stream",
     "text": [
      "object\n"
     ]
    }
   ],
   "source": [
    "print df['Location'].dtype"
   ]
  },
  {
   "cell_type": "code",
   "execution_count": 35,
   "metadata": {},
   "outputs": [],
   "source": [
    "df[['latitude', 'longitude']] = df.apply(lambda row: return_coordinates(str(row['Location'])), axis=1)"
   ]
  },
  {
   "cell_type": "code",
   "execution_count": 36,
   "metadata": {},
   "outputs": [
    {
     "data": {
      "text/html": [
       "<div>\n",
       "<style scoped>\n",
       "    .dataframe tbody tr th:only-of-type {\n",
       "        vertical-align: middle;\n",
       "    }\n",
       "\n",
       "    .dataframe tbody tr th {\n",
       "        vertical-align: top;\n",
       "    }\n",
       "\n",
       "    .dataframe thead th {\n",
       "        text-align: right;\n",
       "    }\n",
       "</style>\n",
       "<table border=\"1\" class=\"dataframe\">\n",
       "  <thead>\n",
       "    <tr style=\"text-align: right;\">\n",
       "      <th></th>\n",
       "      <th>Date</th>\n",
       "      <th>Location</th>\n",
       "      <th>Deaths</th>\n",
       "      <th>Injuries</th>\n",
       "      <th>Description</th>\n",
       "      <th>tokenized</th>\n",
       "      <th>latitude</th>\n",
       "      <th>longitude</th>\n",
       "    </tr>\n",
       "  </thead>\n",
       "  <tbody>\n",
       "    <tr>\n",
       "      <th>0</th>\n",
       "      <td>January 15, 2015</td>\n",
       "      <td>Milwaukee, Wisconsin</td>\n",
       "      <td>0</td>\n",
       "      <td>3</td>\n",
       "      <td>A 15-year-old boy, a student's father, and a t...</td>\n",
       "      <td>[A, 15-year-old, boy, ,, a, student, 's, fathe...</td>\n",
       "      <td>43.034993</td>\n",
       "      <td>-87.922497</td>\n",
       "    </tr>\n",
       "    <tr>\n",
       "      <th>1</th>\n",
       "      <td>January 16, 2015</td>\n",
       "      <td>Ocala, Florida</td>\n",
       "      <td>0</td>\n",
       "      <td>2</td>\n",
       "      <td>Two were injured in gunfire that occurred afte...</td>\n",
       "      <td>[Two, were, injured, in, gunfire, that, occurr...</td>\n",
       "      <td>29.187199</td>\n",
       "      <td>-82.140092</td>\n",
       "    </tr>\n",
       "    <tr>\n",
       "      <th>2</th>\n",
       "      <td>February 4, 2015</td>\n",
       "      <td>Frederick, Maryland</td>\n",
       "      <td>0</td>\n",
       "      <td>2</td>\n",
       "      <td>Two students were shot near the gymnasium of F...</td>\n",
       "      <td>[Two, students, were, shot, near, the, gymnasi...</td>\n",
       "      <td>39.414219</td>\n",
       "      <td>-77.410927</td>\n",
       "    </tr>\n",
       "    <tr>\n",
       "      <th>3</th>\n",
       "      <td>February 14, 2015</td>\n",
       "      <td>Merced, California</td>\n",
       "      <td>1</td>\n",
       "      <td>0</td>\n",
       "      <td>A teenager was found killed in the parking lot...</td>\n",
       "      <td>[A, teenager, was, found, killed, in, the, par...</td>\n",
       "      <td>37.302957</td>\n",
       "      <td>-120.484327</td>\n",
       "    </tr>\n",
       "    <tr>\n",
       "      <th>4</th>\n",
       "      <td>February 23, 2015</td>\n",
       "      <td>Daytona Beach, Florida</td>\n",
       "      <td>0</td>\n",
       "      <td>3</td>\n",
       "      <td>Two students argued outside the music building...</td>\n",
       "      <td>[Two, students, argued, outside, the, music, b...</td>\n",
       "      <td>29.210815</td>\n",
       "      <td>-81.022833</td>\n",
       "    </tr>\n",
       "  </tbody>\n",
       "</table>\n",
       "</div>"
      ],
      "text/plain": [
       "                Date                Location  Deaths  Injuries  \\\n",
       "0   January 15, 2015    Milwaukee, Wisconsin       0         3   \n",
       "1   January 16, 2015          Ocala, Florida       0         2   \n",
       "2   February 4, 2015     Frederick, Maryland       0         2   \n",
       "3  February 14, 2015      Merced, California       1         0   \n",
       "4  February 23, 2015  Daytona Beach, Florida       0         3   \n",
       "\n",
       "                                         Description  \\\n",
       "0  A 15-year-old boy, a student's father, and a t...   \n",
       "1  Two were injured in gunfire that occurred afte...   \n",
       "2  Two students were shot near the gymnasium of F...   \n",
       "3  A teenager was found killed in the parking lot...   \n",
       "4  Two students argued outside the music building...   \n",
       "\n",
       "                                           tokenized   latitude   longitude  \n",
       "0  [A, 15-year-old, boy, ,, a, student, 's, fathe...  43.034993  -87.922497  \n",
       "1  [Two, were, injured, in, gunfire, that, occurr...  29.187199  -82.140092  \n",
       "2  [Two, students, were, shot, near, the, gymnasi...  39.414219  -77.410927  \n",
       "3  [A, teenager, was, found, killed, in, the, par...  37.302957 -120.484327  \n",
       "4  [Two, students, argued, outside, the, music, b...  29.210815  -81.022833  "
      ]
     },
     "execution_count": 36,
     "metadata": {},
     "output_type": "execute_result"
    }
   ],
   "source": [
    "df.head(n=5)"
   ]
  },
  {
   "cell_type": "code",
   "execution_count": 41,
   "metadata": {},
   "outputs": [],
   "source": [
    "def split_and_strip(row):\n",
    "    return [x.strip() for x in row[\"Location\"].split(',')][1]"
   ]
  },
  {
   "cell_type": "code",
   "execution_count": 42,
   "metadata": {},
   "outputs": [],
   "source": [
    "df['state'] = df.apply(lambda row: split_and_strip(row), axis=1)"
   ]
  },
  {
   "cell_type": "code",
   "execution_count": 43,
   "metadata": {},
   "outputs": [
    {
     "data": {
      "text/html": [
       "<div>\n",
       "<style scoped>\n",
       "    .dataframe tbody tr th:only-of-type {\n",
       "        vertical-align: middle;\n",
       "    }\n",
       "\n",
       "    .dataframe tbody tr th {\n",
       "        vertical-align: top;\n",
       "    }\n",
       "\n",
       "    .dataframe thead th {\n",
       "        text-align: right;\n",
       "    }\n",
       "</style>\n",
       "<table border=\"1\" class=\"dataframe\">\n",
       "  <thead>\n",
       "    <tr style=\"text-align: right;\">\n",
       "      <th></th>\n",
       "      <th>Date</th>\n",
       "      <th>Location</th>\n",
       "      <th>Deaths</th>\n",
       "      <th>Injuries</th>\n",
       "      <th>Description</th>\n",
       "      <th>tokenized</th>\n",
       "      <th>latitude</th>\n",
       "      <th>longitude</th>\n",
       "      <th>state</th>\n",
       "    </tr>\n",
       "  </thead>\n",
       "  <tbody>\n",
       "    <tr>\n",
       "      <th>0</th>\n",
       "      <td>January 15, 2015</td>\n",
       "      <td>Milwaukee, Wisconsin</td>\n",
       "      <td>0</td>\n",
       "      <td>3</td>\n",
       "      <td>A 15-year-old boy, a student's father, and a t...</td>\n",
       "      <td>[A, 15-year-old, boy, ,, a, student, 's, fathe...</td>\n",
       "      <td>43.034993</td>\n",
       "      <td>-87.922497</td>\n",
       "      <td>Wisconsin</td>\n",
       "    </tr>\n",
       "    <tr>\n",
       "      <th>1</th>\n",
       "      <td>January 16, 2015</td>\n",
       "      <td>Ocala, Florida</td>\n",
       "      <td>0</td>\n",
       "      <td>2</td>\n",
       "      <td>Two were injured in gunfire that occurred afte...</td>\n",
       "      <td>[Two, were, injured, in, gunfire, that, occurr...</td>\n",
       "      <td>29.187199</td>\n",
       "      <td>-82.140092</td>\n",
       "      <td>Florida</td>\n",
       "    </tr>\n",
       "  </tbody>\n",
       "</table>\n",
       "</div>"
      ],
      "text/plain": [
       "               Date              Location  Deaths  Injuries  \\\n",
       "0  January 15, 2015  Milwaukee, Wisconsin       0         3   \n",
       "1  January 16, 2015        Ocala, Florida       0         2   \n",
       "\n",
       "                                         Description  \\\n",
       "0  A 15-year-old boy, a student's father, and a t...   \n",
       "1  Two were injured in gunfire that occurred afte...   \n",
       "\n",
       "                                           tokenized   latitude  longitude  \\\n",
       "0  [A, 15-year-old, boy, ,, a, student, 's, fathe...  43.034993 -87.922497   \n",
       "1  [Two, were, injured, in, gunfire, that, occurr...  29.187199 -82.140092   \n",
       "\n",
       "       state  \n",
       "0  Wisconsin  \n",
       "1    Florida  "
      ]
     },
     "execution_count": 43,
     "metadata": {},
     "output_type": "execute_result"
    }
   ],
   "source": [
    "df.head(n=2)"
   ]
  },
  {
   "cell_type": "code",
   "execution_count": 44,
   "metadata": {},
   "outputs": [],
   "source": [
    "df['deaths_and_injuries'] = df['Deaths'] + df['Injuries']"
   ]
  },
  {
   "cell_type": "code",
   "execution_count": 45,
   "metadata": {},
   "outputs": [
    {
     "data": {
      "text/html": [
       "<div>\n",
       "<style scoped>\n",
       "    .dataframe tbody tr th:only-of-type {\n",
       "        vertical-align: middle;\n",
       "    }\n",
       "\n",
       "    .dataframe tbody tr th {\n",
       "        vertical-align: top;\n",
       "    }\n",
       "\n",
       "    .dataframe thead th {\n",
       "        text-align: right;\n",
       "    }\n",
       "</style>\n",
       "<table border=\"1\" class=\"dataframe\">\n",
       "  <thead>\n",
       "    <tr style=\"text-align: right;\">\n",
       "      <th></th>\n",
       "      <th>Deaths</th>\n",
       "      <th>Injuries</th>\n",
       "      <th>latitude</th>\n",
       "      <th>longitude</th>\n",
       "      <th>deaths_and_injuries</th>\n",
       "    </tr>\n",
       "  </thead>\n",
       "  <tbody>\n",
       "    <tr>\n",
       "      <th>count</th>\n",
       "      <td>57.000000</td>\n",
       "      <td>57.000000</td>\n",
       "      <td>57.000000</td>\n",
       "      <td>57.000000</td>\n",
       "      <td>57.000000</td>\n",
       "    </tr>\n",
       "    <tr>\n",
       "      <th>mean</th>\n",
       "      <td>1.263158</td>\n",
       "      <td>2.403509</td>\n",
       "      <td>36.938559</td>\n",
       "      <td>-93.043020</td>\n",
       "      <td>3.666667</td>\n",
       "    </tr>\n",
       "    <tr>\n",
       "      <th>std</th>\n",
       "      <td>2.682791</td>\n",
       "      <td>3.839920</td>\n",
       "      <td>6.440343</td>\n",
       "      <td>21.448544</td>\n",
       "      <td>5.813572</td>\n",
       "    </tr>\n",
       "    <tr>\n",
       "      <th>min</th>\n",
       "      <td>0.000000</td>\n",
       "      <td>0.000000</td>\n",
       "      <td>8.654539</td>\n",
       "      <td>-123.341738</td>\n",
       "      <td>0.000000</td>\n",
       "    </tr>\n",
       "    <tr>\n",
       "      <th>25%</th>\n",
       "      <td>0.000000</td>\n",
       "      <td>0.000000</td>\n",
       "      <td>33.558997</td>\n",
       "      <td>-111.833450</td>\n",
       "      <td>1.000000</td>\n",
       "    </tr>\n",
       "    <tr>\n",
       "      <th>50%</th>\n",
       "      <td>1.000000</td>\n",
       "      <td>1.000000</td>\n",
       "      <td>36.862431</td>\n",
       "      <td>-88.326464</td>\n",
       "      <td>2.000000</td>\n",
       "    </tr>\n",
       "    <tr>\n",
       "      <th>75%</th>\n",
       "      <td>1.000000</td>\n",
       "      <td>3.000000</td>\n",
       "      <td>40.572851</td>\n",
       "      <td>-82.140092</td>\n",
       "      <td>4.000000</td>\n",
       "    </tr>\n",
       "    <tr>\n",
       "      <th>max</th>\n",
       "      <td>17.000000</td>\n",
       "      <td>18.000000</td>\n",
       "      <td>47.603832</td>\n",
       "      <td>12.214805</td>\n",
       "      <td>31.000000</td>\n",
       "    </tr>\n",
       "  </tbody>\n",
       "</table>\n",
       "</div>"
      ],
      "text/plain": [
       "          Deaths   Injuries   latitude   longitude  deaths_and_injuries\n",
       "count  57.000000  57.000000  57.000000   57.000000            57.000000\n",
       "mean    1.263158   2.403509  36.938559  -93.043020             3.666667\n",
       "std     2.682791   3.839920   6.440343   21.448544             5.813572\n",
       "min     0.000000   0.000000   8.654539 -123.341738             0.000000\n",
       "25%     0.000000   0.000000  33.558997 -111.833450             1.000000\n",
       "50%     1.000000   1.000000  36.862431  -88.326464             2.000000\n",
       "75%     1.000000   3.000000  40.572851  -82.140092             4.000000\n",
       "max    17.000000  18.000000  47.603832   12.214805            31.000000"
      ]
     },
     "execution_count": 45,
     "metadata": {},
     "output_type": "execute_result"
    }
   ],
   "source": [
    "df.describe()"
   ]
  },
  {
   "cell_type": "markdown",
   "metadata": {},
   "source": [
    "# Now it's time to map"
   ]
  },
  {
   "cell_type": "code",
   "execution_count": 50,
   "metadata": {},
   "outputs": [],
   "source": [
    "import bokeh\n",
    "from bokeh.sampledata.us_states import data as statesData\n",
    "from bokeh.plotting import figure, show, output_file"
   ]
  },
  {
   "cell_type": "code",
   "execution_count": 51,
   "metadata": {},
   "outputs": [],
   "source": [
    "del statesData[\"HI\"]\n",
    "del statesData[\"AK\"]"
   ]
  },
  {
   "cell_type": "code",
   "execution_count": 52,
   "metadata": {},
   "outputs": [
    {
     "data": {
      "text/html": [
       "<div>\n",
       "<style scoped>\n",
       "    .dataframe tbody tr th:only-of-type {\n",
       "        vertical-align: middle;\n",
       "    }\n",
       "\n",
       "    .dataframe tbody tr th {\n",
       "        vertical-align: top;\n",
       "    }\n",
       "\n",
       "    .dataframe thead th {\n",
       "        text-align: right;\n",
       "    }\n",
       "</style>\n",
       "<table border=\"1\" class=\"dataframe\">\n",
       "  <thead>\n",
       "    <tr style=\"text-align: right;\">\n",
       "      <th></th>\n",
       "      <th>Date</th>\n",
       "      <th>Location</th>\n",
       "      <th>Deaths</th>\n",
       "      <th>Injuries</th>\n",
       "      <th>Description</th>\n",
       "      <th>tokenized</th>\n",
       "      <th>latitude</th>\n",
       "      <th>longitude</th>\n",
       "      <th>state</th>\n",
       "      <th>deaths_and_injuries</th>\n",
       "    </tr>\n",
       "  </thead>\n",
       "  <tbody>\n",
       "    <tr>\n",
       "      <th>0</th>\n",
       "      <td>January 15, 2015</td>\n",
       "      <td>Milwaukee, Wisconsin</td>\n",
       "      <td>0</td>\n",
       "      <td>3</td>\n",
       "      <td>A 15-year-old boy, a student's father, and a t...</td>\n",
       "      <td>[A, 15-year-old, boy, ,, a, student, 's, fathe...</td>\n",
       "      <td>43.034993</td>\n",
       "      <td>-87.922497</td>\n",
       "      <td>Wisconsin</td>\n",
       "      <td>3</td>\n",
       "    </tr>\n",
       "    <tr>\n",
       "      <th>1</th>\n",
       "      <td>January 16, 2015</td>\n",
       "      <td>Ocala, Florida</td>\n",
       "      <td>0</td>\n",
       "      <td>2</td>\n",
       "      <td>Two were injured in gunfire that occurred afte...</td>\n",
       "      <td>[Two, were, injured, in, gunfire, that, occurr...</td>\n",
       "      <td>29.187199</td>\n",
       "      <td>-82.140092</td>\n",
       "      <td>Florida</td>\n",
       "      <td>2</td>\n",
       "    </tr>\n",
       "    <tr>\n",
       "      <th>2</th>\n",
       "      <td>February 4, 2015</td>\n",
       "      <td>Frederick, Maryland</td>\n",
       "      <td>0</td>\n",
       "      <td>2</td>\n",
       "      <td>Two students were shot near the gymnasium of F...</td>\n",
       "      <td>[Two, students, were, shot, near, the, gymnasi...</td>\n",
       "      <td>39.414219</td>\n",
       "      <td>-77.410927</td>\n",
       "      <td>Maryland</td>\n",
       "      <td>2</td>\n",
       "    </tr>\n",
       "  </tbody>\n",
       "</table>\n",
       "</div>"
      ],
      "text/plain": [
       "               Date              Location  Deaths  Injuries  \\\n",
       "0  January 15, 2015  Milwaukee, Wisconsin       0         3   \n",
       "1  January 16, 2015        Ocala, Florida       0         2   \n",
       "2  February 4, 2015   Frederick, Maryland       0         2   \n",
       "\n",
       "                                         Description  \\\n",
       "0  A 15-year-old boy, a student's father, and a t...   \n",
       "1  Two were injured in gunfire that occurred afte...   \n",
       "2  Two students were shot near the gymnasium of F...   \n",
       "\n",
       "                                           tokenized   latitude  longitude  \\\n",
       "0  [A, 15-year-old, boy, ,, a, student, 's, fathe...  43.034993 -87.922497   \n",
       "1  [Two, were, injured, in, gunfire, that, occurr...  29.187199 -82.140092   \n",
       "2  [Two, students, were, shot, near, the, gymnasi...  39.414219 -77.410927   \n",
       "\n",
       "       state  deaths_and_injuries  \n",
       "0  Wisconsin                    3  \n",
       "1    Florida                    2  \n",
       "2   Maryland                    2  "
      ]
     },
     "execution_count": 52,
     "metadata": {},
     "output_type": "execute_result"
    }
   ],
   "source": [
    "df.head(n=3)"
   ]
  },
  {
   "cell_type": "code",
   "execution_count": 53,
   "metadata": {},
   "outputs": [],
   "source": [
    "state_df = df.groupby(df['state'])['deaths_and_injuries'].sum()"
   ]
  },
  {
   "cell_type": "code",
   "execution_count": 54,
   "metadata": {},
   "outputs": [
    {
     "data": {
      "text/plain": [
       "state\n",
       "Alabama        7\n",
       "Arizona        6\n",
       "California    44\n",
       "Florida       38\n",
       "Georgia        1\n",
       "Name: deaths_and_injuries, dtype: int64"
      ]
     },
     "execution_count": 54,
     "metadata": {},
     "output_type": "execute_result"
    }
   ],
   "source": [
    "state_df.head(n=5)"
   ]
  },
  {
   "cell_type": "code",
   "execution_count": 81,
   "metadata": {},
   "outputs": [],
   "source": [
    "colors = bokeh.palettes.OrRd5[::-1]"
   ]
  },
  {
   "cell_type": "code",
   "execution_count": 82,
   "metadata": {},
   "outputs": [
    {
     "data": {
      "text/plain": [
       "['#fef0d9', '#fdcc8a', '#fc8d59', '#e34a33', '#b30000']"
      ]
     },
     "execution_count": 82,
     "metadata": {},
     "output_type": "execute_result"
    }
   ],
   "source": [
    "colors"
   ]
  },
  {
   "cell_type": "code",
   "execution_count": 83,
   "metadata": {},
   "outputs": [],
   "source": [
    "color_mapper = bokeh.models.mappers.LinearColorMapper(palette=colors)"
   ]
  },
  {
   "cell_type": "code",
   "execution_count": 63,
   "metadata": {},
   "outputs": [
    {
     "data": {
      "text/plain": [
       "[u'region', u'lons', u'name', u'lats']"
      ]
     },
     "execution_count": 63,
     "metadata": {},
     "output_type": "execute_result"
    }
   ],
   "source": [
    "statesData['WA'].keys()"
   ]
  },
  {
   "cell_type": "code",
   "execution_count": 64,
   "metadata": {},
   "outputs": [],
   "source": [
    "state_dict = state_df.to_dict()"
   ]
  },
  {
   "cell_type": "code",
   "execution_count": 67,
   "metadata": {},
   "outputs": [],
   "source": [
    "# State level information\n",
    "new_state_xs = []\n",
    "new_state_ys = []\n",
    "state_name = []\n",
    "state_count = []\n",
    "\n",
    "for abbr, state in statesData.iteritems():\n",
    "    new_state_xs.append(state['lons'])\n",
    "    new_state_ys.append(state['lats'])\n",
    "    state_name.append(state['name'])\n",
    "    state_count.append(state_dict.get(state['name'],0))"
   ]
  },
  {
   "cell_type": "code",
   "execution_count": 70,
   "metadata": {},
   "outputs": [],
   "source": [
    "incident_data_source = bokeh.models.sources.ColumnDataSource(df)"
   ]
  },
  {
   "cell_type": "code",
   "execution_count": 76,
   "metadata": {},
   "outputs": [],
   "source": [
    "state_data_source = bokeh.models.sources.ColumnDataSource(data=dict(x=new_state_xs,\n",
    "                                                                y=new_state_ys,\n",
    "                                                                color=state_count,\n",
    "                                                                ))"
   ]
  },
  {
   "cell_type": "code",
   "execution_count": 77,
   "metadata": {},
   "outputs": [],
   "source": [
    "plot = figure(title=\"School shootings, 2015 - present\", plot_width=800, plot_height=500)"
   ]
  },
  {
   "cell_type": "code",
   "execution_count": 94,
   "metadata": {},
   "outputs": [
    {
     "data": {
      "text/html": [
       "<div style=\"display: table;\"><div style=\"display: table-row;\"><div style=\"display: table-cell;\"><b title=\"bokeh.models.renderers.GlyphRenderer\">GlyphRenderer</b>(</div><div style=\"display: table-cell;\">id&nbsp;=&nbsp;'f9dc5c55-5f05-47ce-9c05-9e386811b429', <span id=\"0bf9e2fa-f275-4810-9f9d-485c9591104e\" style=\"cursor: pointer;\">&hellip;)</span></div></div><div class=\"cb92bec9-2d4d-4dec-8ec1-e37d15953042\" style=\"display: none;\"><div style=\"display: table-cell;\"></div><div style=\"display: table-cell;\">data_source&nbsp;=&nbsp;ColumnDataSource(id='17b91afc-4288-482b-89d1-9510b0770b22', ...),</div></div><div class=\"cb92bec9-2d4d-4dec-8ec1-e37d15953042\" style=\"display: none;\"><div style=\"display: table-cell;\"></div><div style=\"display: table-cell;\">glyph&nbsp;=&nbsp;Circle(id='f4ac5b19-7746-402d-b085-a27b753aea26', ...),</div></div><div class=\"cb92bec9-2d4d-4dec-8ec1-e37d15953042\" style=\"display: none;\"><div style=\"display: table-cell;\"></div><div style=\"display: table-cell;\">hover_glyph&nbsp;=&nbsp;None,</div></div><div class=\"cb92bec9-2d4d-4dec-8ec1-e37d15953042\" style=\"display: none;\"><div style=\"display: table-cell;\"></div><div style=\"display: table-cell;\">js_event_callbacks&nbsp;=&nbsp;{},</div></div><div class=\"cb92bec9-2d4d-4dec-8ec1-e37d15953042\" style=\"display: none;\"><div style=\"display: table-cell;\"></div><div style=\"display: table-cell;\">js_property_callbacks&nbsp;=&nbsp;{},</div></div><div class=\"cb92bec9-2d4d-4dec-8ec1-e37d15953042\" style=\"display: none;\"><div style=\"display: table-cell;\"></div><div style=\"display: table-cell;\">level&nbsp;=&nbsp;'glyph',</div></div><div class=\"cb92bec9-2d4d-4dec-8ec1-e37d15953042\" style=\"display: none;\"><div style=\"display: table-cell;\"></div><div style=\"display: table-cell;\">muted&nbsp;=&nbsp;False,</div></div><div class=\"cb92bec9-2d4d-4dec-8ec1-e37d15953042\" style=\"display: none;\"><div style=\"display: table-cell;\"></div><div style=\"display: table-cell;\">muted_glyph&nbsp;=&nbsp;None,</div></div><div class=\"cb92bec9-2d4d-4dec-8ec1-e37d15953042\" style=\"display: none;\"><div style=\"display: table-cell;\"></div><div style=\"display: table-cell;\">name&nbsp;=&nbsp;None,</div></div><div class=\"cb92bec9-2d4d-4dec-8ec1-e37d15953042\" style=\"display: none;\"><div style=\"display: table-cell;\"></div><div style=\"display: table-cell;\">nonselection_glyph&nbsp;=&nbsp;'auto',</div></div><div class=\"cb92bec9-2d4d-4dec-8ec1-e37d15953042\" style=\"display: none;\"><div style=\"display: table-cell;\"></div><div style=\"display: table-cell;\">selection_glyph&nbsp;=&nbsp;'auto',</div></div><div class=\"cb92bec9-2d4d-4dec-8ec1-e37d15953042\" style=\"display: none;\"><div style=\"display: table-cell;\"></div><div style=\"display: table-cell;\">subscribed_events&nbsp;=&nbsp;[],</div></div><div class=\"cb92bec9-2d4d-4dec-8ec1-e37d15953042\" style=\"display: none;\"><div style=\"display: table-cell;\"></div><div style=\"display: table-cell;\">tags&nbsp;=&nbsp;[],</div></div><div class=\"cb92bec9-2d4d-4dec-8ec1-e37d15953042\" style=\"display: none;\"><div style=\"display: table-cell;\"></div><div style=\"display: table-cell;\">view&nbsp;=&nbsp;CDSView(id='dbbad0b5-5787-404b-b710-bf4047a41c51', ...),</div></div><div class=\"cb92bec9-2d4d-4dec-8ec1-e37d15953042\" style=\"display: none;\"><div style=\"display: table-cell;\"></div><div style=\"display: table-cell;\">visible&nbsp;=&nbsp;True,</div></div><div class=\"cb92bec9-2d4d-4dec-8ec1-e37d15953042\" style=\"display: none;\"><div style=\"display: table-cell;\"></div><div style=\"display: table-cell;\">x_range_name&nbsp;=&nbsp;'default',</div></div><div class=\"cb92bec9-2d4d-4dec-8ec1-e37d15953042\" style=\"display: none;\"><div style=\"display: table-cell;\"></div><div style=\"display: table-cell;\">y_range_name&nbsp;=&nbsp;'default')</div></div></div>\n",
       "<script>\n",
       "(function() {\n",
       "  var expanded = false;\n",
       "  var ellipsis = document.getElementById(\"0bf9e2fa-f275-4810-9f9d-485c9591104e\");\n",
       "  ellipsis.addEventListener(\"click\", function() {\n",
       "    var rows = document.getElementsByClassName(\"cb92bec9-2d4d-4dec-8ec1-e37d15953042\");\n",
       "    for (var i = 0; i < rows.length; i++) {\n",
       "      var el = rows[i];\n",
       "      el.style.display = expanded ? \"none\" : \"table-row\";\n",
       "    }\n",
       "    ellipsis.innerHTML = expanded ? \"&hellip;)\" : \"&lsaquo;&lsaquo;&lsaquo;\";\n",
       "    expanded = !expanded;\n",
       "  });\n",
       "})();\n",
       "</script>\n"
      ],
      "text/plain": [
       "GlyphRenderer(id='f9dc5c55-5f05-47ce-9c05-9e386811b429', ...)"
      ]
     },
     "execution_count": 94,
     "metadata": {},
     "output_type": "execute_result"
    }
   ],
   "source": [
    "plot.patches('x', 'y', source=state_data_source,\n",
    "             color={'field': 'color', 'transform': color_mapper},\n",
    "            line_color=\"white\", line_width=0.5)\n",
    "\n",
    "circle = bokeh.models.markers.Circle(x='longitude', y='latitude', size='deaths_and_injuries')\n",
    "plot.add_glyph(incident_data_source, circle)"
   ]
  },
  {
   "cell_type": "code",
   "execution_count": 95,
   "metadata": {},
   "outputs": [],
   "source": [
    "show(plot)"
   ]
  },
  {
   "cell_type": "code",
   "execution_count": null,
   "metadata": {},
   "outputs": [],
   "source": []
  }
 ],
 "metadata": {
  "kernelspec": {
   "display_name": "Python 2",
   "language": "python",
   "name": "python2"
  },
  "language_info": {
   "codemirror_mode": {
    "name": "ipython",
    "version": 2
   },
   "file_extension": ".py",
   "mimetype": "text/x-python",
   "name": "python",
   "nbconvert_exporter": "python",
   "pygments_lexer": "ipython2",
   "version": "2.7.10"
  }
 },
 "nbformat": 4,
 "nbformat_minor": 2
}
