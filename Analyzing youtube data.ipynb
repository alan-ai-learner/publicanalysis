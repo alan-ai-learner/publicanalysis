{
 "cells": [
  {
   "cell_type": "code",
   "execution_count": 37,
   "metadata": {},
   "outputs": [],
   "source": [
    "import pandas as pd\n",
    "import requests\n",
    "from bs4 import BeautifulSoup"
   ]
  },
  {
   "cell_type": "code",
   "execution_count": 38,
   "metadata": {},
   "outputs": [],
   "source": [
    "url = \"http://socialblade.com/youtube/\""
   ]
  },
  {
   "cell_type": "code",
   "execution_count": 39,
   "metadata": {},
   "outputs": [],
   "source": [
    "html = requests.get(url)"
   ]
  },
  {
   "cell_type": "code",
   "execution_count": 40,
   "metadata": {},
   "outputs": [
    {
     "name": "stdout",
     "output_type": "stream",
     "text": [
      "<!DOCTYPE html>\n",
      "<head>\n",
      "<title>Track YouTube analytics, future predictions, & live subscriber counts - Social Blade</title>\n",
      "<meta name=\"description\" content=\"View the daily YouTube analytics, track progress charts, view future predictions, related channels, and track realtime live sub counts.\">\n",
      "<meta name=\"keywords\" content=\"YouTube statistics, YouTube analytics, daily statistics, daily graphs, YouTube users, top youtubers, top YouTube users, top YouTube networks, top charts, YouTube networks, ap\n"
     ]
    }
   ],
   "source": [
    "print html.text[:500]"
   ]
  },
  {
   "cell_type": "code",
   "execution_count": 41,
   "metadata": {},
   "outputs": [
    {
     "name": "stdout",
     "output_type": "stream",
     "text": [
      "<class 'requests.models.Response'>\n"
     ]
    }
   ],
   "source": [
    "print type(html)"
   ]
  },
  {
   "cell_type": "code",
   "execution_count": 42,
   "metadata": {},
   "outputs": [],
   "source": [
    "soup = BeautifulSoup(html.text)"
   ]
  },
  {
   "cell_type": "code",
   "execution_count": 49,
   "metadata": {},
   "outputs": [],
   "source": [
    "body = soup.findAll(\"div\", {\"class\": \"table-body\"})"
   ]
  },
  {
   "cell_type": "code",
   "execution_count": 58,
   "metadata": {},
   "outputs": [],
   "source": [
    "def prepare_table_row(row):\n",
    "    \"\"\"\n",
    "    Take the raw table data and send it to a dictionary\n",
    "    \"\"\"\n",
    "    lst = [i.text for i in row if i !=u'\\n']\n",
    "    return dict(rank=int(lst[0]),\n",
    "                grade=str(lst[1]),\n",
    "                channel=str(lst[2]),\n",
    "                videos=float(lst[3].replace(\",\", \"\")),\n",
    "                subscribers=float(lst[4].replace(\",\", \"\")),\n",
    "                views=float(lst[5].replace(\",\",\"\")))"
   ]
  },
  {
   "cell_type": "code",
   "execution_count": 61,
   "metadata": {},
   "outputs": [
    {
     "name": "stdout",
     "output_type": "stream",
     "text": [
      "{'subscribers': 61831275.0, 'videos': 3459.0, 'views': 17461530176.0, 'grade': 'A', 'channel': 'PewDiePie', 'rank': 1}\n"
     ]
    }
   ],
   "source": [
    "print prepare_table_row(body[0])"
   ]
  },
  {
   "cell_type": "code",
   "execution_count": 62,
   "metadata": {},
   "outputs": [],
   "source": [
    "data = []\n",
    "for tr in body:\n",
    "    datum = prepare_table_row(tr)\n",
    "    for a in tr.find_all('a', href=True):\n",
    "        datum['url'] = a['href']\n",
    "    data.append(datum)"
   ]
  },
  {
   "cell_type": "code",
   "execution_count": 63,
   "metadata": {},
   "outputs": [],
   "source": [
    "df = pd.DataFrame(data)"
   ]
  },
  {
   "cell_type": "code",
   "execution_count": 64,
   "metadata": {},
   "outputs": [
    {
     "data": {
      "text/html": [
       "<div>\n",
       "<style scoped>\n",
       "    .dataframe tbody tr th:only-of-type {\n",
       "        vertical-align: middle;\n",
       "    }\n",
       "\n",
       "    .dataframe tbody tr th {\n",
       "        vertical-align: top;\n",
       "    }\n",
       "\n",
       "    .dataframe thead th {\n",
       "        text-align: right;\n",
       "    }\n",
       "</style>\n",
       "<table border=\"1\" class=\"dataframe\">\n",
       "  <thead>\n",
       "    <tr style=\"text-align: right;\">\n",
       "      <th></th>\n",
       "      <th>channel</th>\n",
       "      <th>grade</th>\n",
       "      <th>rank</th>\n",
       "      <th>subscribers</th>\n",
       "      <th>url</th>\n",
       "      <th>videos</th>\n",
       "      <th>views</th>\n",
       "    </tr>\n",
       "  </thead>\n",
       "  <tbody>\n",
       "    <tr>\n",
       "      <th>0</th>\n",
       "      <td>PewDiePie</td>\n",
       "      <td>A</td>\n",
       "      <td>1</td>\n",
       "      <td>61831275.0</td>\n",
       "      <td>/youtube/user/pewdiepie</td>\n",
       "      <td>3459.0</td>\n",
       "      <td>1.746153e+10</td>\n",
       "    </tr>\n",
       "    <tr>\n",
       "      <th>1</th>\n",
       "      <td>T-Series</td>\n",
       "      <td>A++</td>\n",
       "      <td>2</td>\n",
       "      <td>40564266.0</td>\n",
       "      <td>/youtube/user/tseries</td>\n",
       "      <td>12194.0</td>\n",
       "      <td>3.460975e+10</td>\n",
       "    </tr>\n",
       "    <tr>\n",
       "      <th>2</th>\n",
       "      <td>Justin Bieber</td>\n",
       "      <td>B</td>\n",
       "      <td>3</td>\n",
       "      <td>38056122.0</td>\n",
       "      <td>/youtube/user/kidrauhl</td>\n",
       "      <td>132.0</td>\n",
       "      <td>5.827884e+08</td>\n",
       "    </tr>\n",
       "    <tr>\n",
       "      <th>3</th>\n",
       "      <td>JustinBieberVEVO</td>\n",
       "      <td>A</td>\n",
       "      <td>4</td>\n",
       "      <td>34651188.0</td>\n",
       "      <td>/youtube/user/JustinBieberVEVO</td>\n",
       "      <td>123.0</td>\n",
       "      <td>1.714674e+10</td>\n",
       "    </tr>\n",
       "    <tr>\n",
       "      <th>4</th>\n",
       "      <td>HolaSoyGerman.</td>\n",
       "      <td>B+</td>\n",
       "      <td>5</td>\n",
       "      <td>33551527.0</td>\n",
       "      <td>/youtube/user/holasoygerman</td>\n",
       "      <td>137.0</td>\n",
       "      <td>3.448900e+09</td>\n",
       "    </tr>\n",
       "    <tr>\n",
       "      <th>5</th>\n",
       "      <td>Canal KondZilla</td>\n",
       "      <td>A++</td>\n",
       "      <td>6</td>\n",
       "      <td>30442399.0</td>\n",
       "      <td>/youtube/user/CanalKondzilla</td>\n",
       "      <td>679.0</td>\n",
       "      <td>1.484931e+10</td>\n",
       "    </tr>\n",
       "    <tr>\n",
       "      <th>6</th>\n",
       "      <td>Ed Sheeran</td>\n",
       "      <td>A+</td>\n",
       "      <td>7</td>\n",
       "      <td>29417715.0</td>\n",
       "      <td>/youtube/user/EdSheeran</td>\n",
       "      <td>116.0</td>\n",
       "      <td>1.274125e+10</td>\n",
       "    </tr>\n",
       "    <tr>\n",
       "      <th>7</th>\n",
       "      <td>Rihanna</td>\n",
       "      <td>B-</td>\n",
       "      <td>8</td>\n",
       "      <td>29032030.0</td>\n",
       "      <td>/youtube/user/Rihanna</td>\n",
       "      <td>69.0</td>\n",
       "      <td>5.322299e+07</td>\n",
       "    </tr>\n",
       "    <tr>\n",
       "      <th>8</th>\n",
       "      <td>Dude Perfect</td>\n",
       "      <td>D-</td>\n",
       "      <td>9</td>\n",
       "      <td>28782821.0</td>\n",
       "      <td>/youtube/user/corycotton</td>\n",
       "      <td>173.0</td>\n",
       "      <td>4.930189e+09</td>\n",
       "    </tr>\n",
       "    <tr>\n",
       "      <th>9</th>\n",
       "      <td>elrubiusOMG</td>\n",
       "      <td>A</td>\n",
       "      <td>10</td>\n",
       "      <td>28471491.0</td>\n",
       "      <td>/youtube/user/ElRubiusOMG</td>\n",
       "      <td>767.0</td>\n",
       "      <td>6.413027e+09</td>\n",
       "    </tr>\n",
       "    <tr>\n",
       "      <th>10</th>\n",
       "      <td>TaylorSwiftVEVO</td>\n",
       "      <td>A</td>\n",
       "      <td>11</td>\n",
       "      <td>28292974.0</td>\n",
       "      <td>/youtube/user/taylorswiftvevo</td>\n",
       "      <td>85.0</td>\n",
       "      <td>1.462009e+10</td>\n",
       "    </tr>\n",
       "    <tr>\n",
       "      <th>11</th>\n",
       "      <td>whinderssonnunes</td>\n",
       "      <td>A-</td>\n",
       "      <td>12</td>\n",
       "      <td>28121941.0</td>\n",
       "      <td>/youtube/user/whinderssonnunes</td>\n",
       "      <td>338.0</td>\n",
       "      <td>2.281941e+09</td>\n",
       "    </tr>\n",
       "    <tr>\n",
       "      <th>12</th>\n",
       "      <td>YouTube Spotlight</td>\n",
       "      <td>B</td>\n",
       "      <td>13</td>\n",
       "      <td>27226325.0</td>\n",
       "      <td>/youtube/user/Youtube</td>\n",
       "      <td>268.0</td>\n",
       "      <td>1.390070e+09</td>\n",
       "    </tr>\n",
       "    <tr>\n",
       "      <th>13</th>\n",
       "      <td>Fernanfloo</td>\n",
       "      <td>A</td>\n",
       "      <td>14</td>\n",
       "      <td>27172551.0</td>\n",
       "      <td>/youtube/user/fernanfloo</td>\n",
       "      <td>568.0</td>\n",
       "      <td>6.383308e+09</td>\n",
       "    </tr>\n",
       "    <tr>\n",
       "      <th>14</th>\n",
       "      <td>KatyPerryVEVO</td>\n",
       "      <td>A</td>\n",
       "      <td>15</td>\n",
       "      <td>26936338.0</td>\n",
       "      <td>/youtube/user/katyperryvevo</td>\n",
       "      <td>126.0</td>\n",
       "      <td>1.538805e+10</td>\n",
       "    </tr>\n",
       "    <tr>\n",
       "      <th>15</th>\n",
       "      <td>RihannaVEVO</td>\n",
       "      <td>A</td>\n",
       "      <td>16</td>\n",
       "      <td>26774428.0</td>\n",
       "      <td>/youtube/user/rihannavevo</td>\n",
       "      <td>106.0</td>\n",
       "      <td>1.255672e+10</td>\n",
       "    </tr>\n",
       "    <tr>\n",
       "      <th>16</th>\n",
       "      <td>EminemVEVO</td>\n",
       "      <td>A</td>\n",
       "      <td>17</td>\n",
       "      <td>26672138.0</td>\n",
       "      <td>/youtube/user/eminemvevo</td>\n",
       "      <td>78.0</td>\n",
       "      <td>1.052826e+10</td>\n",
       "    </tr>\n",
       "    <tr>\n",
       "      <th>17</th>\n",
       "      <td>JuegaGerman</td>\n",
       "      <td>A</td>\n",
       "      <td>18</td>\n",
       "      <td>25518057.0</td>\n",
       "      <td>/youtube/user/JuegaGerman</td>\n",
       "      <td>1389.0</td>\n",
       "      <td>6.918831e+09</td>\n",
       "    </tr>\n",
       "    <tr>\n",
       "      <th>18</th>\n",
       "      <td>WWE</td>\n",
       "      <td>A+</td>\n",
       "      <td>19</td>\n",
       "      <td>24234001.0</td>\n",
       "      <td>/youtube/user/wwefannation</td>\n",
       "      <td>33928.0</td>\n",
       "      <td>2.139250e+10</td>\n",
       "    </tr>\n",
       "    <tr>\n",
       "      <th>19</th>\n",
       "      <td>TheEllenShow</td>\n",
       "      <td>A+</td>\n",
       "      <td>20</td>\n",
       "      <td>24154110.0</td>\n",
       "      <td>/youtube/user/TheEllenShow</td>\n",
       "      <td>8521.0</td>\n",
       "      <td>1.174361e+10</td>\n",
       "    </tr>\n",
       "    <tr>\n",
       "      <th>20</th>\n",
       "      <td>OneDirectionVEVO</td>\n",
       "      <td>A-</td>\n",
       "      <td>21</td>\n",
       "      <td>23594475.0</td>\n",
       "      <td>/youtube/user/onedirectionvevo</td>\n",
       "      <td>171.0</td>\n",
       "      <td>7.971329e+09</td>\n",
       "    </tr>\n",
       "    <tr>\n",
       "      <th>21</th>\n",
       "      <td>Smosh</td>\n",
       "      <td>A</td>\n",
       "      <td>22</td>\n",
       "      <td>22961899.0</td>\n",
       "      <td>/youtube/user/smosh</td>\n",
       "      <td>960.0</td>\n",
       "      <td>7.148509e+09</td>\n",
       "    </tr>\n",
       "    <tr>\n",
       "      <th>22</th>\n",
       "      <td>VanossGaming</td>\n",
       "      <td>A</td>\n",
       "      <td>23</td>\n",
       "      <td>22702861.0</td>\n",
       "      <td>/youtube/user/vanossgaming</td>\n",
       "      <td>782.0</td>\n",
       "      <td>9.107679e+09</td>\n",
       "    </tr>\n",
       "    <tr>\n",
       "      <th>23</th>\n",
       "      <td>VEGETTA777</td>\n",
       "      <td>A</td>\n",
       "      <td>24</td>\n",
       "      <td>21721488.0</td>\n",
       "      <td>/youtube/user/VEGETTA777</td>\n",
       "      <td>4380.0</td>\n",
       "      <td>8.602478e+09</td>\n",
       "    </tr>\n",
       "    <tr>\n",
       "      <th>24</th>\n",
       "      <td>SET India</td>\n",
       "      <td>A++</td>\n",
       "      <td>25</td>\n",
       "      <td>21521538.0</td>\n",
       "      <td>/youtube/user/Setindia</td>\n",
       "      <td>24022.0</td>\n",
       "      <td>1.621747e+10</td>\n",
       "    </tr>\n",
       "  </tbody>\n",
       "</table>\n",
       "</div>"
      ],
      "text/plain": [
       "              channel grade  rank  subscribers  \\\n",
       "0           PewDiePie     A     1   61831275.0   \n",
       "1            T-Series   A++     2   40564266.0   \n",
       "2       Justin Bieber     B     3   38056122.0   \n",
       "3    JustinBieberVEVO     A     4   34651188.0   \n",
       "4      HolaSoyGerman.    B+     5   33551527.0   \n",
       "5     Canal KondZilla   A++     6   30442399.0   \n",
       "6          Ed Sheeran    A+     7   29417715.0   \n",
       "7             Rihanna    B-     8   29032030.0   \n",
       "8        Dude Perfect    D-     9   28782821.0   \n",
       "9         elrubiusOMG     A    10   28471491.0   \n",
       "10    TaylorSwiftVEVO     A    11   28292974.0   \n",
       "11   whinderssonnunes    A-    12   28121941.0   \n",
       "12  YouTube Spotlight     B    13   27226325.0   \n",
       "13         Fernanfloo     A    14   27172551.0   \n",
       "14      KatyPerryVEVO     A    15   26936338.0   \n",
       "15        RihannaVEVO     A    16   26774428.0   \n",
       "16         EminemVEVO     A    17   26672138.0   \n",
       "17        JuegaGerman     A    18   25518057.0   \n",
       "18                WWE    A+    19   24234001.0   \n",
       "19       TheEllenShow    A+    20   24154110.0   \n",
       "20   OneDirectionVEVO    A-    21   23594475.0   \n",
       "21              Smosh     A    22   22961899.0   \n",
       "22       VanossGaming     A    23   22702861.0   \n",
       "23         VEGETTA777     A    24   21721488.0   \n",
       "24          SET India   A++    25   21521538.0   \n",
       "\n",
       "                               url   videos         views  \n",
       "0          /youtube/user/pewdiepie   3459.0  1.746153e+10  \n",
       "1            /youtube/user/tseries  12194.0  3.460975e+10  \n",
       "2           /youtube/user/kidrauhl    132.0  5.827884e+08  \n",
       "3   /youtube/user/JustinBieberVEVO    123.0  1.714674e+10  \n",
       "4      /youtube/user/holasoygerman    137.0  3.448900e+09  \n",
       "5     /youtube/user/CanalKondzilla    679.0  1.484931e+10  \n",
       "6          /youtube/user/EdSheeran    116.0  1.274125e+10  \n",
       "7            /youtube/user/Rihanna     69.0  5.322299e+07  \n",
       "8         /youtube/user/corycotton    173.0  4.930189e+09  \n",
       "9        /youtube/user/ElRubiusOMG    767.0  6.413027e+09  \n",
       "10   /youtube/user/taylorswiftvevo     85.0  1.462009e+10  \n",
       "11  /youtube/user/whinderssonnunes    338.0  2.281941e+09  \n",
       "12           /youtube/user/Youtube    268.0  1.390070e+09  \n",
       "13        /youtube/user/fernanfloo    568.0  6.383308e+09  \n",
       "14     /youtube/user/katyperryvevo    126.0  1.538805e+10  \n",
       "15       /youtube/user/rihannavevo    106.0  1.255672e+10  \n",
       "16        /youtube/user/eminemvevo     78.0  1.052826e+10  \n",
       "17       /youtube/user/JuegaGerman   1389.0  6.918831e+09  \n",
       "18      /youtube/user/wwefannation  33928.0  2.139250e+10  \n",
       "19      /youtube/user/TheEllenShow   8521.0  1.174361e+10  \n",
       "20  /youtube/user/onedirectionvevo    171.0  7.971329e+09  \n",
       "21             /youtube/user/smosh    960.0  7.148509e+09  \n",
       "22      /youtube/user/vanossgaming    782.0  9.107679e+09  \n",
       "23        /youtube/user/VEGETTA777   4380.0  8.602478e+09  \n",
       "24          /youtube/user/Setindia  24022.0  1.621747e+10  "
      ]
     },
     "execution_count": 64,
     "metadata": {},
     "output_type": "execute_result"
    }
   ],
   "source": [
    "df"
   ]
  },
  {
   "cell_type": "code",
   "execution_count": 65,
   "metadata": {},
   "outputs": [],
   "source": [
    "import seaborn as sns"
   ]
  },
  {
   "cell_type": "code",
   "execution_count": 66,
   "metadata": {},
   "outputs": [
    {
     "data": {
      "image/png": "[encoded data removed]",
      "text/plain": [
       "<matplotlib.figure.Figure at 0x111687910>"
      ]
     },
     "metadata": {},
     "output_type": "display_data"
    }
   ],
   "source": [
    "ax = sns.barplot(x=df[\"subscribers\"], y=df[\"channel\"])"
   ]
  },
  {
   "cell_type": "code",
   "execution_count": 67,
   "metadata": {},
   "outputs": [
    {
     "data": {
      "image/png": "[encoded data removed]",
      "text/plain": [
       "<matplotlib.figure.Figure at 0x111714e10>"
      ]
     },
     "metadata": {},
     "output_type": "display_data"
    }
   ],
   "source": [
    "ax = sns.barplot(x=df[\"views\"], y=df[\"channel\"])"
   ]
  },
  {
   "cell_type": "code",
   "execution_count": 68,
   "metadata": {},
   "outputs": [],
   "source": [
    "import wikipedia"
   ]
  },
  {
   "cell_type": "code",
   "execution_count": 69,
   "metadata": {},
   "outputs": [
    {
     "name": "stdout",
     "output_type": "stream",
     "text": [
      "[u'T-Series', u'ThinkPad T Series', u'T series', u'Isuzu Giga', u'T-series (Toronto subway)', u'List of Canon products', u'Gulshan Kumar', u'Apple-designed processors', u'ThinkPad', u'SPARC T-Series']\n"
     ]
    }
   ],
   "source": [
    "print wikipedia.search(\"T-Series\")"
   ]
  },
  {
   "cell_type": "code",
   "execution_count": 70,
   "metadata": {},
   "outputs": [
    {
     "name": "stdout",
     "output_type": "stream",
     "text": [
      "T-Series is an Indian music company, founded by Gulshan Kumar in the 1980s. It is primarily known for Bollywood music soundtracks. It is also engaged in film production and distribution.\n",
      "In the 1990s, T-Series released many of the best-selling Bollywood soundtrack albums, including Nadeem–Shravan's Aashiqui (1990), the best-selling Indian soundtrack album of all time. Currently, the T-Series YouTube channel is the most-viewed YouTube channel in the world, with nearly 1.7 billion monthly views, as of December 2017.\n"
     ]
    }
   ],
   "source": [
    "print wikipedia.summary(\"T-Series\", sentences=5)"
   ]
  },
  {
   "cell_type": "code",
   "execution_count": 72,
   "metadata": {},
   "outputs": [
    {
     "name": "stdout",
     "output_type": "stream",
     "text": [
      "Felix Arvid Ulf Kjellberg ( SHEL-burg; Swedish: [ˈfeːlɪks ²ɕɛlːˌbærj] ( listen); born 24 October 1989), known online as PewDiePie ( PEW-dee-py), is a Swedish YouTube personality, web-based comedian and video producer. He is known for his Let's Play commentaries and vlogs, as well as his following on YouTube.\n",
      "Born in Gothenburg, Sweden, PewDiePie originally pursued a degree in industrial economics and technology management at Chalmers University of Technology. In 2010, during his time at the university, he registered a YouTube account under the name PewDiePie. The following year, he dropped out of Chalmers after becoming disinterested with his degree field, much to the dismay of his parents.\n",
      "\n",
      "\n",
      "T-Series is an Indian music company, founded by Gulshan Kumar in the 1980s. It is primarily known for Bollywood music soundtracks. It is also engaged in film production and distribution.\n",
      "In the 1990s, T-Series released many of the best-selling Bollywood soundtrack albums, including Nadeem–Shravan's Aashiqui (1990), the best-selling Indian soundtrack album of all time. Currently, the T-Series YouTube channel is the most-viewed YouTube channel in the world, with nearly 1.7 billion monthly views, as of December 2017.\n",
      "\n",
      "\n",
      "Justin Drew Bieber (; born March 1, 1994) is a Canadian singer and songwriter. After a talent manager discovered him through his YouTube videos covering songs in 2008 and signed to RBMG, Bieber released his debut EP, My World, in late 2009. It was certified platinum in the U.S. He became the first artist to have seven songs from a debut record chart on the Billboard Hot 100. Bieber released his first full-length studio album, My World 2.0, in 2010. It debuted at or near number one in several countries, was certified triple platinum in the U.S., and contained his single \"Baby\".\n",
      "\n",
      "\n",
      "Justin Drew Bieber (; born March 1, 1994) is a Canadian singer and songwriter. After a talent manager discovered him through his YouTube videos covering songs in 2008 and signed to RBMG, Bieber released his debut EP, My World, in late 2009. It was certified platinum in the U.S. He became the first artist to have seven songs from a debut record chart on the Billboard Hot 100. Bieber released his first full-length studio album, My World 2.0, in 2010. It debuted at or near number one in several countries, was certified triple platinum in the U.S., and contained his single \"Baby\".\n",
      "\n",
      "\n",
      "Germán Alejandro Garmendia Aranis (Spanish pronunciation: [xerˈman aleˈxandɾo ɣarˈmendja aˈɾanis]; born 25 April 1990,, known by his YouTube channels HolaSoyGerman. and JuegaGerman, is a Chilean YouTuber, comedian, and writer. He has produced a variety of songs together with his band Ancud, all available on YouTube and Spotify. His book titled #Chupa el perro came out at multiple stores of Latin America and Spain on 28 April 2016. His channels are currently the 4th and 16th most subscribed on YouTube, having a combined total of over 60.8 million subscribers.\n",
      "\n",
      "\n",
      "KondZilla, (stage name of Konrad Cunha Dantas) is a Brazilian music video producer, director and screenwriter. He has directed over 300 music videos.. He started his career by directing the live in Charlie Brown Jr.'s concert film \"Música Popular Caiçara\".\n",
      "KondZilla has worked with musical artists including Racionais MCs, Charlie Brown Jr, MC Guime, Preta Gil, Tati Zaqui, Karol Conká, Tropkillaz, Arnaldo Saccomani, MC Nego Blue, DJ Marlboro, MC Boy do Charmes, MC Pedrinho, MC Bola, Pikeno & Menor, Hungria Hip-Hop, among many others.\n",
      "One of his works, the video for “Tombei” by Karol Conká, was nominated for Best Music Video at the 2015 Multishow Awards.\n",
      "\n",
      "\n",
      "Edward Christopher Sheeran,  (; born 17 February 1991) is an English singer, songwriter, guitarist, record producer, and actor. Sheeran was born in Halifax, West Yorkshire, and raised in Framlingham, Suffolk. He attended the Academy of Contemporary Music in Guildford as an undergraduate from the age of 18 in 2009. In early 2011, Sheeran independently released the extended play, No. 5 Collaborations Project.\n",
      "\n",
      "\n",
      "Robyn Rihanna Fenty (; 20 February 1988) is a Bajan-born singer, songwriter and actress. Born in Saint Michael, Barbados and raised in Bridgetown, during 2003 she recorded demo tapes under the direction of record producer Evan Rogers and signed a recording contract with Def Jam Recordings after auditioning for its then-president, hip hop producer and rapper Jay Z. In 2005, Rihanna rose to fame with the release of her debut studio album Music of the Sun and its follow-up A Girl like Me (2006), which charted on the top 10 of the US Billboard 200 and respectively produced the successful singles \"Pon de Replay\", \"SOS\" and \"Unfaithful\".\n",
      "She assumed creative control for her third studio album Good Girl Gone Bad (2007) and adopted a public image as a sex symbol, while reinventing her music. Its lead single \"Umbrella\" became an international breakthrough in her career, as she won her first Grammy Award at the 50th Annual Grammy Awards in 2008. After releasing four consecutive platinum studio albums, including the Grammy Award winner Unapologetic (2012), she was recognized as an icon of today's music.\n",
      "\n",
      "\n",
      "Dude Perfect is an American sports entertainment group which routinely uploads new video content to various YouTube channels. The group consists of twins Coby and Cory Cotton, Garrett Hilbert, Cody Jones, and Tyler Toney, all of whom are former high school basketball players and college roommates at Texas A&M University. The members of the group hold several Guinness World Records. Their YouTube videos have garnered over 4.8 billion views total and their flagship channel, \"Dude Perfect,\" has over 28 million subscribers as of March 2018. The channel is the 7th most subscribed channel overall and the most subscribed sports channel on YouTube.\n",
      "\n",
      "\n",
      "Rubén Doblas Gundersen (Spanish: [ruˈβen ˈdoβlaz ˈɣundeɾsen]; born on 13 February 1990), better known by his pseudonym El Rubius or elrubiusOMG (), is a Spanish YouTube personality whose channel primarily consists of gameplays and vlogs. His channel currently has over 6.2 billion views and 28 million subscribers, making it the 7th most subscribed on YouTube, the second most subscribed channel in the Spanish language, and the most subscribed YouTube channel in Spain.\n",
      "A tweet from Rubius's official Twitter account was the most retweeted tweet in the world for the year 2016. The tweet was retweeted more than 1.3 million times.\n",
      "\n",
      "\n",
      "== Biography ==\n",
      "Doblas was born in the Spanish town of Mijas in 1990 to a Spanish father and a Norwegian mother.\n",
      "\n",
      "\n",
      "Taylor Alison Swift (born December 13, 1989) is an American singer-songwriter. One of the leading contemporary recording artists, she is known for narrative songs about her personal life, which have received widespread media coverage.\n",
      "Born and raised in Pennsylvania, Swift moved to Nashville, Tennessee at the age of 14 to pursue a career in country music. She signed with the label Big Machine Records and became the youngest artist ever signed by the Sony/ATV Music publishing house. Her 2006 self-titled debut album peaked at number five on the Billboard 200 and spent the most weeks on the chart in the 2000s.\n",
      "\n",
      "\n",
      "Whindersson Nunes Batista (born January 5, 1995) is a Brazilian comedian, singer, and YouTuber known for his comedy videos since 2013.\n",
      "In October 2016, his YouTube channel whinderssonnunes became the most subscribed in Brazil. But, in February 2018, was surpassed by Canal KondZilla. The channel is currently the 11th most-subscribed channel on YouTube. His channel currently has over 27 million subscribers and 2.1 billion views.\n",
      "\n",
      "\n",
      "YouTube Spotlight is YouTube's official video channel for spotlighting videos and events on YouTube. Events shown on the channel include YouTube Comedy Week and the YouTube Music Awards. Additionally, the channel uploads annual installments of YouTube Rewind.\n",
      "On November 2, 2013, the YouTube Spotlight channel briefly surpassed PewDiePie's channel, to become the most subscribed channel on the website. The channel ascended to the top position through autosuggesting and pre-selecting itself as a subscription option upon new user registration for YouTube.\n",
      "\n",
      "\n",
      "Luis Fernando Flores Alvarado (known on YouTube as Fernanfloo) is a Salvadoran gaming YouTuber. With a total of over 6.1 billion views, more than 560 videos and 26.3 million subscribers, his channel is the 12th most-subscribed on YouTube. Alvarado's YouTube channel is the most subscribed from his native country of El Salvador, and its subscriber count is more than three times as high as the population of that nation. Alvarado's channel is the only YouTube channel from El Salvador to have a higher subscriber count than the population of the country.\n",
      "\n",
      "\n",
      "== History ==\n",
      "Alvarado was born on July 7, 1993 in San Salvador, El Salvador.\n",
      "\n",
      "\n"
     ]
    },
    {
     "name": "stdout",
     "output_type": "stream",
     "text": [
      "Katheryn Elizabeth Hudson (born October 25, 1984), known professionally as Katy Perry, is an American singer, songwriter, and television judge. After singing in church during her childhood, she pursued a career in gospel music as a teenager. Perry signed with Red Hill Records and released her debut studio album Katy Hudson under her birth name in 2001, which was commercially unsuccessful. She moved to Los Angeles the following year to venture into secular music after Red Hill ceased operations and she subsequently began working with producers Glen Ballard, Dr. Luke, and Max Martin.\n",
      "\n",
      "\n",
      "Robyn Rihanna Fenty (; 20 February 1988) is a Bajan-born singer, songwriter and actress. Born in Saint Michael, Barbados and raised in Bridgetown, during 2003 she recorded demo tapes under the direction of record producer Evan Rogers and signed a recording contract with Def Jam Recordings after auditioning for its then-president, hip hop producer and rapper Jay Z. In 2005, Rihanna rose to fame with the release of her debut studio album Music of the Sun and its follow-up A Girl like Me (2006), which charted on the top 10 of the US Billboard 200 and respectively produced the successful singles \"Pon de Replay\", \"SOS\" and \"Unfaithful\".\n",
      "She assumed creative control for her third studio album Good Girl Gone Bad (2007) and adopted a public image as a sex symbol, while reinventing her music. Its lead single \"Umbrella\" became an international breakthrough in her career, as she won her first Grammy Award at the 50th Annual Grammy Awards in 2008. After releasing four consecutive platinum studio albums, including the Grammy Award winner Unapologetic (2012), she was recognized as an icon of today's music.\n",
      "\n",
      "\n",
      "Marshall Bruce Mathers III (born October 17, 1972), known professionally as Eminem (often stylized as EMINƎM), is an American rapper, songwriter, record producer, record executive, and actor.\n",
      "Eminem is the best-selling artist of the 2000s in the United States. Throughout his career, he has had 10 number-one albums on the Billboard 200 and five number-one singles on the Billboard Hot 100. With 47.4 million albums sold in the US and 220 million records globally, he is among the world's best-selling artists of all time. Additionally, he is the only artist to have eight albums consecutively debut at number one on the Billboard 200.\n",
      "\n",
      "\n",
      "Germán Alejandro Garmendia Aranis (Spanish pronunciation: [xerˈman aleˈxandɾo ɣarˈmendja aˈɾanis]; born 25 April 1990,, known by his YouTube channels HolaSoyGerman. and JuegaGerman, is a Chilean YouTuber, comedian, and writer. He has produced a variety of songs together with his band Ancud, all available on YouTube and Spotify. His book titled #Chupa el perro came out at multiple stores of Latin America and Spain on 28 April 2016. His channels are currently the 4th and 16th most subscribed on YouTube, having a combined total of over 60.8 million subscribers.\n",
      "\n",
      "\n",
      "World Wrestling Entertainment, Inc., doing business as WWE, is an American integrated media and entertainment company that primarily is known for professional wrestling, but has also branched out into other fields over the years, including movies, real estate, and various other business ventures.\n",
      "WWE also refers to the professional wrestling promotion itself, founded by Jess McMahon and Toots Mondt in 1952 as Capitol Wrestling Corporation Ltd. As of 2018, it is the largest wrestling promotion in the world, holding over 500 events a year (with the roster divided up into various globally traveling brands), and is available to about 36 million viewers in more than 150 countries. The company's global headquarters is located in Stamford, Connecticut, with offices in major cities across the world.\n",
      "As in other professional wrestling promotions, WWE shows are not legitimate contests, but purely entertainment-based, featuring storyline-driven, scripted, and choreographed matches, though they often include moves that can put performers at risk of injury if not performed correctly.\n",
      "\n",
      "\n",
      "The Ellen DeGeneres Show (often shortened to Ellen and stylized as ellen) is an American television comedy talk show hosted by comedian/actress Ellen DeGeneres. Debuting on September 8, 2003, it is produced by Telepictures and airs in syndication, including stations owned by NBCUniversal. For its first five seasons, the show was taped in Studio 11 at NBC Studios in Burbank, California. From season 6 onwards, the show moved to being taped at Stage 1 on the nearby Warner Bros. lot.\n",
      "\n",
      "\n",
      "One Direction (commonly abbreviated as 1D) is an English-Irish pop boy band based in London, composed of Niall Horan, Liam Payne, Harry Styles, Louis Tomlinson, and previously, Zayn Malik until his departure from the band on 25 March 2015. The group signed with Simon Cowell's record label Syco Records after forming and finishing third in the seventh series of the British televised singing competition The X Factor in 2010. Propelled to international success by social media, One Direction's five albums, Up All Night (2011), Take Me Home (2012), Midnight Memories (2013), Four (2014), and Made in the A.M. (2015), topped charts in most major markets, and generated hit singles including \"What Makes You Beautiful\", \"Live While We're Young\", \"Little Things\", \"Best Song Ever\", \"Story of My Life\", \"Drag Me Down\" and \"Perfect\".\n",
      "Their awards include six Brit Awards, four MTV Video Music Awards, eleven MTV Europe Music Awards, seven American Music Awards (including Artist of the Year in 2014 and 2015), and 28 Teen Choice Awards, among many others. According to Nick Gatfield, the chairman and chief executive of Sony Music Entertainment UK, One Direction represented a $50 million business empire by June 2012.\n",
      "\n",
      "\n",
      "Smosh is an American sketch comedy YouTube channel created by Ian Andrew Hecox (born November 30, 1987) and Daniel Anthony Padilla (; born September 16, 1987).\n",
      "Anthony Padilla created a website called smosh.com in 2002. He was later joined by his friend Ian Hecox. Soon afterward, they began to post videos on YouTube in the autumn of 2005 and became one of the most popular channels on the site. As of January 2018, the Smosh channel has over 7 billion video views and 22.8 million subscribers, making it the 19th most subscribed channel on YouTube.\n",
      "\n",
      "\n",
      "Evan Fong (born 31 May 1992), better known through his YouTube videos as VanossGaming (or simply Vanoss), is a Canadian video game commentator and internet personality. He produces content on YouTube centered on playing popular video games with other YouTube collaborators. As of March 2018, Fong's channel has over 8.9 billion video views and 22.5 million subscribers on YouTube, making it the 21st most subscribed channel on YouTube.\n",
      "\n",
      "\n",
      "== YouTube channel ==\n",
      "\n",
      "\n",
      "=== Format ===\n",
      "The majority of VanossGaming videos take the format of a montage or compilation, featuring various clips from a particular game session, usually featuring other video game commentators. The Canadian Press described \"a typical Vanoss video\" by claiming that it features \"Vanoss and a group of friends chatting, laughing and making jokes over gameplay from popular titles such as Grand Theft Auto V or Call of Duty: World at War\".\n",
      "\n",
      "\n",
      "This article lists the fifty most-subscribed channels on the video platform YouTube. The ability to \"subscribe\" to a user's channel was added to YouTube by late October 2005, and the \"most subscribed\" list on YouTube began as a chart by May 2006, at which time Smosh was number one with fewer than three thousand subscribers. Since December 22, 2013, the most subscribed user has been PewDiePie, whose channel has over 61 million subscribers as of February 2018.\n",
      "\n",
      "\n",
      "== Top channels ==\n",
      "\n",
      "\n",
      "=== All-time ===\n",
      "The following table lists the fifty most subscribed channels on YouTube, with each total rounded down to the nearest million subscribers, as well as the network and language of each channel. Channels marked as \"Auto-generated by YouTube\" (such as Music, Gaming, Sports and Movies) and channels known to have gained subscribers inorganically (such as Justin Bieber and Rihanna) are excluded.\n",
      "\n",
      "\n",
      "Sony Entertainment Television or SET, is a Hindi-language based general entertainment television channel in the Indian subcontinent. It was launched in October 1995 and is owned by Sony Pictures Networks India Pvt. Ltd. (formerly MSM), a subsidiary of Sony Pictures Entertainment. The network carried C.I.D. and Kaun Banega Crorepati.\n",
      "\n",
      "\n"
     ]
    }
   ],
   "source": [
    "for index, row in df.iterrows():\n",
    "    print wikipedia.summary(row['channel'], sentences=5)\n",
    "    print \"\\n\""
   ]
  },
  {
   "cell_type": "code",
   "execution_count": null,
   "metadata": {},
   "outputs": [],
   "source": []
  }
 ],
 "metadata": {
  "kernelspec": {
   "display_name": "Python 2",
   "language": "python",
   "name": "python2"
  },
  "language_info": {
   "codemirror_mode": {
    "name": "ipython",
    "version": 2
   },
   "file_extension": ".py",
   "mimetype": "text/x-python",
   "name": "python",
   "nbconvert_exporter": "python",
   "pygments_lexer": "ipython2",
   "version": "2.7.10"
  }
 },
 "nbformat": 4,
 "nbformat_minor": 2
}
